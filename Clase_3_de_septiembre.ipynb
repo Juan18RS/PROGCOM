{
  "nbformat": 4,
  "nbformat_minor": 0,
  "metadata": {
    "colab": {
      "provenance": []
    },
    "kernelspec": {
      "name": "python3",
      "display_name": "Python 3"
    },
    "language_info": {
      "name": "python"
    }
  },
  "cells": [
    {
      "cell_type": "markdown",
      "source": [
        "#Ejercicio\n",
        "Solicite un valor e imprima que tipo de dato es: Ejemplo\n",
        "- ingreso: 'A'\n",
        "- imprime: str\n",
        "- ingreso: 1\n",
        "- imprime: int"
      ],
      "metadata": {
        "id": "6k1bN2snHwT1"
      }
    },
    {
      "cell_type": "markdown",
      "source": [
        "##Try (algo): / except (algo):\n",
        "El programa ejecuta una operación inválida.\n",
        "\n",
        "*   **Break**: Para romper un ciclo.\n",
        "*   **pass**: Permite que una clase o una función vacía se ejecute.\n",
        "*   **None**: Es el valor nada de cualquier estructura de datos.\n",
        "*   Elemento de la lista\n",
        "\n",
        "\n"
      ],
      "metadata": {
        "id": "QDhBPri8IeSl"
      }
    },
    {
      "cell_type": "code",
      "source": [
        "#Respuesta pra:\n",
        "letra=input(\"Ingrese una letra \")\n",
        "num=None\n",
        "for conv in (int,float):\n",
        "  try:\n",
        "    num=conv(letra)\n",
        "    break\n",
        "  except ValueError:\n",
        "    pass\n",
        "if num==None: print(f\"letra es una variable de tipo {type(letra)}\")\n",
        "else: print(f\"{letra} es una variable de tipo {type(num)}\")"
      ],
      "metadata": {
        "colab": {
          "base_uri": "https://localhost:8080/"
        },
        "id": "it4g2AQyIUY-",
        "outputId": "44ab647e-29ab-4825-8e6e-57f900765a98"
      },
      "execution_count": null,
      "outputs": [
        {
          "output_type": "stream",
          "name": "stdout",
          "text": [
            "Ingrese una letra 1.1\n",
            "letra es una variable de tipo <class 'float'>\n"
          ]
        }
      ]
    },
    {
      "cell_type": "code",
      "source": [
        "#Cuando el usuario divida entre 0 no le aparezca error usando try y except\n",
        "a=int(input(\"Ingrese el dividendo \"))\n",
        "b=int(input(\"Ingrese el divisor \"))\n",
        "try:\n",
        "  division= a/b\n",
        "  print(f\"{a}/{b}= {division}\")\n",
        "except ZeroDivisionError:\n",
        "  print(\"No se puede dividir\")"
      ],
      "metadata": {
        "colab": {
          "base_uri": "https://localhost:8080/"
        },
        "id": "cJOIEHoWM7oD",
        "outputId": "706c5a07-998e-4693-a2bb-d3dbc28bd3d1"
      },
      "execution_count": null,
      "outputs": [
        {
          "output_type": "stream",
          "name": "stdout",
          "text": [
            "Ingrese el dividendo 1\n",
            "Ingrese el divisor 0\n",
            "No se puede dividir\n"
          ]
        }
      ]
    },
    {
      "cell_type": "markdown",
      "source": [
        "Hacer un programa que te pregunte si quiere helado. Si la respuesta es si, qué sabor de helado,."
      ],
      "metadata": {
        "id": "pWV4ZKohPgto"
      }
    },
    {
      "cell_type": "code",
      "source": [
        "a=input(\"Quieres helado? \")\n",
        "a=a[0].lower()\n",
        "if a==\"s\":\n",
        "  f=input(\"Qué sabor quieres? \")\n",
        "  if f==\"chocolate\": print(f\"Aquí está su helado de {f}. Me debe 5000\")\n",
        "  elif f==\"vainilla\":print(f\"Aquí está su helado de {f}. Me debe 4000\")\n",
        "  elif f==\"fresa\":print(f\"Aquí está su helado de {f}. Me debe 10000\")\n",
        "  elif f==\"Ron con pasas\":print(f\"Aquí está su helado de {f}. Me debe 7000\")\n",
        "  else: print(\"Lo siento, no tenemos ese sabor\")\n",
        "else:\n",
        "  print(\"Ta bueno... a poco que ni queria :(\")\n"
      ],
      "metadata": {
        "colab": {
          "base_uri": "https://localhost:8080/"
        },
        "id": "zliBsD0vPpnG",
        "outputId": "375f5a1b-250c-444b-8d13-8cf4c8966ad4"
      },
      "execution_count": 27,
      "outputs": [
        {
          "output_type": "stream",
          "name": "stdout",
          "text": [
            "Quieres helado? siii\n",
            "Qué sabor quieres? Ron con pasas\n",
            "Aquí está su helado de Ron con pasas. Me debe 7000\n"
          ]
        }
      ]
    },
    {
      "cell_type": "code",
      "source": [
        "#Usando match\n",
        "a=input(\"Quieres helado? \")\n",
        "a=a[0].lower()\n",
        "if a==\"s\":\n",
        "  f=input(\"Qué sabor quieres? \").lower()\n",
        "  match f:\n",
        "    case \"chocolate\": print(f\"Aquí está su helado de {f}. Me debe 5000\")\n",
        "    case \"vainilla\":print(f\"Aquí está su helado de {f}. Me debe 4000\")\n",
        "    case \"fresa\":print(f\"Aquí está su helado de {f}. Me debe 10000\")\n",
        "    case \"Ron con pasas\":print(f\"Aquí está su helado de {f}. Me debe 7000\")\n",
        "    case _: print(\"Lo siento, no tenemos ese sabor\")\n",
        "else:\n",
        "  print(\"Ta bueno... a poco que ni queria :(\")"
      ],
      "metadata": {
        "colab": {
          "base_uri": "https://localhost:8080/"
        },
        "id": "1aPDhFBISPO-",
        "outputId": "6eb4ff60-2633-4975-c087-240a9e4f6551"
      },
      "execution_count": 30,
      "outputs": [
        {
          "output_type": "stream",
          "name": "stdout",
          "text": [
            "Quieres helado? SIII\n",
            "Qué sabor quieres? VAINILLA\n",
            "Aquí está su helado de vainilla. Me debe 4000\n"
          ]
        }
      ]
    },
    {
      "cell_type": "markdown",
      "source": [
        "#Ejercicios clase\n"
      ],
      "metadata": {
        "id": "I863US-XUoxT"
      }
    },
    {
      "cell_type": "code",
      "source": [
        "#1. Decir si una letra es vocal mayúscula o minúscula.\n",
        "a=input(\"Ingrese una letra \")\n",
        "a=a[0]\n",
        "if a==\"a\" or a==\"e\" or a==\"i\" or a==\"o\" or a==\"u\": print(\"Es una vocal en minúscula\")\n",
        "elif a==\"A\" or a==\"E\" or a==\"I\" or a==\"O\" or a==\"U\": print(\"Es una vocal en mayúscula\")\n",
        "else: print(\"No es una vocal\")\n"
      ],
      "metadata": {
        "colab": {
          "base_uri": "https://localhost:8080/"
        },
        "id": "rzubqQhlUsTz",
        "outputId": "7fcc4860-2428-4b8a-c38b-3840d154ec87"
      },
      "execution_count": 33,
      "outputs": [
        {
          "output_type": "stream",
          "name": "stdout",
          "text": [
            "Ingrese una letra m\n",
            "No es una vocal\n"
          ]
        }
      ]
    },
    {
      "cell_type": "code",
      "source": [
        "a=input(\"Ingrese una letra \")\n",
        "a=a[0]\n",
        "match a:\n",
        "  case \"a\": print(\"Es una vocal en minúscula\")\n",
        "  case \"A\": print(\"Es una vocal en mayúscula\")\n",
        "  case \"e\": print(\"Es una vocal en minúscula\")\n",
        "  case \"E\": print(\"Es una vocal en mayúscula\")\n",
        "  case \"i\": print(\"Es una vocal en minúscula\")\n",
        "  case \"I\": print(\"Es una vocal en mayúscula\")\n",
        "  case \"o\": print(\"Es una vocal en minúscula\")\n",
        "  case \"O\": print(\"Es una vocal en mayúscula\")\n",
        "  case \"u\": print(\"Es una vocal en minúscula\")\n",
        "  case \"U\": print(\"Es una vocal en mayúscula\")\n",
        "  case _: print(\"No es una vocal\")"
      ],
      "metadata": {
        "colab": {
          "base_uri": "https://localhost:8080/"
        },
        "id": "_tpd2ZB5Vc06",
        "outputId": "757a9d76-2772-4cb8-d9b3-82c9a68c60d8"
      },
      "execution_count": 45,
      "outputs": [
        {
          "output_type": "stream",
          "name": "stdout",
          "text": [
            "Ingrese una letra m\n",
            "No es una vocal\n"
          ]
        }
      ]
    },
    {
      "cell_type": "code",
      "source": [
        "#2. Decir si un día es fin de semana o si es entre semana.\n",
        "b=input(\"Ingrese un día de la semana \")\n",
        "b=b[0]\n",
        "if b==\"s\" or b==\"S\" or b==\"d\" or b==\"D\": print(\"Es fin de semana\")\n",
        "elif b==\"l\" or b==\"L\" or b==\"m\" or b==\"M\" or b==\"j\" or b==\"J\" or b==\"v\" or b==\"V\": print(\"Es entre semana\")\n",
        "else: print(\"No es un día de la semana\")"
      ],
      "metadata": {
        "colab": {
          "base_uri": "https://localhost:8080/"
        },
        "id": "WqAeB4HDWwvJ",
        "outputId": "64d38549-adf4-4e9d-84bb-0527022d5851"
      },
      "execution_count": 47,
      "outputs": [
        {
          "output_type": "stream",
          "name": "stdout",
          "text": [
            "Ingrese un día de la semana S\n",
            "Es fin de semana\n"
          ]
        }
      ]
    },
    {
      "cell_type": "code",
      "source": [
        "b=input(\"Ingrese un día de la semana \")\n",
        "b=b[0]\n",
        "match b:\n",
        "  case \"s\": print(\"Es fin de semana\")\n",
        "  case \"S\": print(\"Es fin de semana\")\n",
        "  case \"d\": print(\"Es fin de semana\")\n",
        "  case \"D\": print(\"Es fin de semana\")\n",
        "  case \"l\": print(\"Es entre semana\")\n",
        "  case \"L\": print(\"Es entre semana\")\n",
        "  case \"m\": print(\"Es entre semana\")\n",
        "  case \"M\": print(\"Es entre semana\")\n",
        "  case \"j\": print(\"Es entre semana\")\n",
        "  case \"J\": print(\"Es entre semana\")\n",
        "  case \"v\": print(\"Es entre semana\")\n",
        "  case \"V\": print(\"Es entre semana\")\n",
        "  case _: print(\"No es un día de la semana\")"
      ],
      "metadata": {
        "colab": {
          "base_uri": "https://localhost:8080/"
        },
        "id": "ybZoWKLfXGVQ",
        "outputId": "26e30746-bff6-4f9d-99c1-dce8f62f96c0"
      },
      "execution_count": 48,
      "outputs": [
        {
          "output_type": "stream",
          "name": "stdout",
          "text": [
            "Ingrese un día de la semana v\n",
            "Es entre semana\n"
          ]
        }
      ]
    },
    {
      "cell_type": "code",
      "source": [
        "#3. Desarrolle un clasificador de animales: debe identificar si el animal es ave, mamifero o reptil. Pruébelo con los siguientes animales: águila, loro, león, tigre, cocodrilo, pitón\n",
        "c=input(\"Ingrese un animal \")\n",
        "c=c[0]\n",
        "if c==\"a\" or c==\"A\": print(\"Es un ave\")\n",
        "elif c==\"l\" or c==\"L\": print(\"Es un mamifero\")\n",
        "elif c==\"t\" or c==\"T\": print(\"Es un reptil\")\n",
        "elif c==\"c\" or c==\"C\": print(\"Es un mamifero\")\n",
        "elif c==\"p\" or c==\"P\": print(\"Es un reptil\")\n",
        "else: print(\"No pertenece\")"
      ],
      "metadata": {
        "colab": {
          "base_uri": "https://localhost:8080/"
        },
        "id": "iDGOyyiAXWsA",
        "outputId": "e691742b-415b-4198-967f-678cf24aca09"
      },
      "execution_count": 49,
      "outputs": [
        {
          "output_type": "stream",
          "name": "stdout",
          "text": [
            "Ingrese un animal cocodrilo\n",
            "Es un mamifero\n"
          ]
        }
      ]
    },
    {
      "cell_type": "code",
      "source": [
        "c=input(\"Ingrese un animal \")\n",
        "c=c[0]\n",
        "match c:\n",
        "  case \"a\": print(\"Es un ave\")\n",
        "  case \"A\": print(\"Es un ave\")\n",
        "  case \"l\": print(\"Es un mamifero\")\n",
        "  case \"L\": print(\"Es un mamifero\")\n",
        "  case \"t\": print(\"Es un reptil\")\n",
        "  case \"T\": print(\"Es un reptil\")\n",
        "  case \"c\": print(\"Es un mamifero\")\n",
        "  case \"C\": print(\"Es un mamifero\")\n",
        "  case \"p\": print(\"Es un reptil\")\n",
        "  case \"P\": print(\"Es un repil\")\n",
        "  case _: print(\"No pertenece\")\n"
      ],
      "metadata": {
        "colab": {
          "base_uri": "https://localhost:8080/"
        },
        "id": "lkY5fZmfYFJ4",
        "outputId": "126bd678-009e-42ac-a69c-68f83c118ec6"
      },
      "execution_count": 50,
      "outputs": [
        {
          "output_type": "stream",
          "name": "stdout",
          "text": [
            "Ingrese un animal piton\n",
            "Es un reptil\n"
          ]
        }
      ]
    },
    {
      "cell_type": "code",
      "source": [
        "#4. Desarrolle un programa que le pregunte qué lenguaje de programación desea aprender, y que escriba un pequeño mensaje sobre cada uno de esos programas\n",
        "d=input(\"Qué lenguaje de programación desea aprender? \")\n",
        "d:d[0]\n",
        "if d==\"p\" or d==\"P\": print(\"Python es un lenguaje de programación\")\n",
        "elif d==\"j\" or d==\"J\": print(\"Java es un lenguaje de programación\")\n",
        "elif d==\"c\" or d==\"C\": print(\"C++ es un lenguaje de programación\")\n",
        "elif d==\"r\" or d==\"R\": print(\"Ruby es un lenguaje de programación\")\n",
        "else: print(\"No sé de qué lenguaje es\")"
      ],
      "metadata": {
        "colab": {
          "base_uri": "https://localhost:8080/"
        },
        "id": "M4QxBkhuYi_v",
        "outputId": "1185391e-2808-4f9e-94ce-48a4c497a489"
      },
      "execution_count": 51,
      "outputs": [
        {
          "output_type": "stream",
          "name": "stdout",
          "text": [
            "Qué lenguaje de programación desea aprender? html\n",
            "No sé de qué lenguaje es\n"
          ]
        }
      ]
    },
    {
      "cell_type": "code",
      "source": [
        "#5. Hallar el mayor de 5 números. El programa deb validar que todos los números sean diferentes.\n",
        "e=float(input(\"Ingrese el primer número \"))\n",
        "f=float(input(\"Ingrese el segundo número \"))\n",
        "g=float(input(\"Ingrese el tercer número \"))\n",
        "h=float(input(\"Ingrese el cuarto número \"))\n",
        "i=float(input(\"Ingrese el quinto número \"))\n",
        "z= (e != f) and (e != g) and (e != h) and (e != i) and (f != g) and (f != h) and (f != i) and (g != h) and (g != i) and (h != i)\n",
        "mayor= (e if z and (e>f and e>g and e>h and e>i) else f if z and (f>e and f>g and f>h and f>i) else g if z and (g>e and g>f and g>h and g>i) else h if z and (h>e and h>f and h>g and h>i) else i if z and (i>e and i>f and i>g and i>h) else \"todos los numeros deben ser diferentes\")\n",
        "print(f\"El numero mayor es: {mayor}\" if z else \"todos los numeros deben ser diferentes\")"
      ],
      "metadata": {
        "colab": {
          "base_uri": "https://localhost:8080/"
        },
        "id": "qBpezwDeZaM_",
        "outputId": "a22b1a1f-a5d8-454c-f1e9-f1992da3920a"
      },
      "execution_count": 53,
      "outputs": [
        {
          "output_type": "stream",
          "name": "stdout",
          "text": [
            "Ingrese el primer número 8\n",
            "Ingrese el segundo número 5\n",
            "Ingrese el tercer número 3\n",
            "Ingrese el cuarto número 4\n",
            "Ingrese el quinto número 7\n",
            "El numero mayor es: 8.0\n"
          ]
        }
      ]
    },
    {
      "cell_type": "code",
      "source": [
        "#6. Se presentan 3 personas: Definir cual es el mayor de los 3 y definir de acuerdo a su edad si es un adulto, adolescente o niño.\n",
        "edad1 = int(input(\"Ingrese la edad de la primera persona: \"))\n",
        "edad2 = int(input(\"Ingrese la edad de la segunda persona: \"))\n",
        "edad3 = int(input(\"Ingrese la edad de la tercera persona: \"))\n",
        "mayor_edad = edad1 if edad1 > edad2 and edad1 > edad3 else edad2 if edad2 > edad1 and edad2 > edad3 else edad3\n",
        "categoria = \"adulto\" if mayor_edad >= 18 else \"adolescente\" if mayor_edad >= 13 else \"niño\"\n",
        "print(\"La persona mayor tiene\", mayor_edad, \"años y es un\", categoria)"
      ],
      "metadata": {
        "colab": {
          "base_uri": "https://localhost:8080/"
        },
        "id": "wOMo6bCmdAPr",
        "outputId": "12d48a36-e180-4c66-ea4c-ca67f065de48"
      },
      "execution_count": 54,
      "outputs": [
        {
          "output_type": "stream",
          "name": "stdout",
          "text": [
            "Ingrese la edad de la primera persona: 4\n",
            "Ingrese la edad de la segunda persona: 5\n",
            "Ingrese la edad de la tercera persona: 6\n",
            "La persona mayor tiene 6 años y es un niño\n"
          ]
        }
      ]
    },
    {
      "cell_type": "code",
      "source": [
        "#7. En el ejercicio de las vocales, además de decidir si es mayúscula o minúscula, informarle al usuario cuando éste introduce un caracter diferente a una vocal.\n",
        "caracter = input(\"Ingrese un carácter: \")\n",
        "match caracter:\n",
        "    case 'A' | 'E' | 'I' | 'O' | 'U':\n",
        "        print(f\"La letra '{caracter}' es una vocal mayúscula.\")\n",
        "    case 'a' | 'e' | 'i' | 'o' | 'u':\n",
        "        print(f\"La letra '{caracter}' es una vocal minúscula.\")\n",
        "    case _:\n",
        "        print(f\"La letra '{caracter}' no es una vocal.\")"
      ],
      "metadata": {
        "id": "k1-8LoeyhJXI"
      },
      "execution_count": null,
      "outputs": []
    },
    {
      "cell_type": "code",
      "source": [
        "caracter = input(\"Ingrese un carácter: \")\n",
        "if caracter == 'A' or caracter == 'E' or caracter == 'I' or caracter == 'O' or caracter == 'U':\n",
        "    print(f\"La letra '{caracter}' es una vocal mayúscula.\")\n",
        "elif caracter == 'a' or caracter == 'e' or caracter == 'i' or caracter == 'o' or caracter == 'u':\n",
        "    print(f\"La letra '{caracter}' es una vocal minúscula.\")\n",
        "else:\n",
        "    print(f\"La letra '{caracter}' no es una vocal.\")"
      ],
      "metadata": {
        "id": "fxa0N0iShrHP"
      },
      "execution_count": null,
      "outputs": []
    },
    {
      "cell_type": "code",
      "source": [
        "#8. Imprimir si un número del 0 al 9 es impar. Si es superior o inferior al rango, anunciarle al usuario que no pertenece al rango.\n",
        "numero = int(input(\"Ingrese un número del 0 al 9: \"))\n",
        "match numero:\n",
        "    case n if n < 0 or n > 9:\n",
        "        print(\"El número no pertenece al rango del 0 al 9\")\n",
        "    case n if n % 2 == 0:\n",
        "        print(f\"El número {n} es par\")\n",
        "    case _:\n",
        "        print(f\"El número {numero} es impar\")"
      ],
      "metadata": {
        "id": "hvbmuol_hu8I"
      },
      "execution_count": null,
      "outputs": []
    },
    {
      "cell_type": "code",
      "source": [
        "numero = int(input(\"Ingrese un número del 0 al 9: \"))\n",
        "if numero < 0 or numero > 9:\n",
        "    print(\"El número no pertenece al rango del 0 al 9\")\n",
        "elif numero % 2 == 0:\n",
        "    print(f\"El número {numero} es par\")\n",
        "else:\n",
        "    print(f\"El número {numero} es impar\")"
      ],
      "metadata": {
        "id": "R-f28VGRiF7e"
      },
      "execution_count": null,
      "outputs": []
    },
    {
      "cell_type": "code",
      "source": [],
      "metadata": {
        "id": "ChAU4WOeiL2W"
      },
      "execution_count": null,
      "outputs": []
    }
  ]
}