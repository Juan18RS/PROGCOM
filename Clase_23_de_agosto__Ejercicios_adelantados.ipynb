{
  "nbformat": 4,
  "nbformat_minor": 0,
  "metadata": {
    "colab": {
      "provenance": []
    },
    "kernelspec": {
      "name": "python3",
      "display_name": "Python 3"
    },
    "language_info": {
      "name": "python"
    }
  },
  "cells": [
    {
      "cell_type": "markdown",
      "source": [
        "# Ejercicios\n",
        "En los ejercicios se utilizó if, elif, else y match según se pueda."
      ],
      "metadata": {
        "id": "i3yLNU4NWfYf"
      }
    },
    {
      "cell_type": "code",
      "source": [
        "#Ejercicio 1: Hallar el mayor de 5 números. El programa debe validar que todos los números sean diferentes\n",
        "n1= float(input(\"Ingrese un número \"))\n",
        "n2= float(input(\"Ingrese un número \"))\n",
        "n3= float(input(\"Ingrese un número \"))\n",
        "n4= float(input(\"Ingrese un número \"))\n",
        "n5= float(input(\"Ingrese un número \"))\n",
        "if n1!=n2 and n1!=n3 and n1!=n4 and n1!=n5 and n2!=n3 and n2!=n4 and n2!=n5 and n3!=n4 and n3!=n5 and n4!=n5:\n",
        "  print(f\"{n1},{n2},{n3},{n4},{n5} son diferentes\")\n",
        "else:\n",
        "  print(f\"{n1},{n2},{n3},{n4},{n5} no son diferentes\")\n",
        "if n1>n2 and n1>n3 and n1>n4 and n1>n5:\n",
        "  print(f\"{n1} es el mayor\")\n",
        "elif n2>n1 and n2>n3 and n2>n4 and n2>n5:\n",
        "  print(f\"{n2} es el mayor\")\n",
        "elif n3>n1 and n3>n2 and n3>n4 and n3>n5:\n",
        "  print(f\"{n3} es el mayor\")\n",
        "elif n4>n1 and n4>n2 and n4>n3 and n4>n5:\n",
        "  print(f\"{n4} es el mayor\")\n",
        "elif n5>n1 and n5>n2 and n5>n3 and n5>n4:\n",
        "  print(f\"{n5} es el mayor\")"
      ],
      "metadata": {
        "colab": {
          "base_uri": "https://localhost:8080/"
        },
        "id": "J3Py5kQBXqlj",
        "outputId": "a16fa526-e9fa-4364-a68c-bc114ad7b56e"
      },
      "execution_count": null,
      "outputs": [
        {
          "output_type": "stream",
          "name": "stdout",
          "text": [
            "Ingrese un número 22\n",
            "Ingrese un número 24\n",
            "Ingrese un número 26\n",
            "Ingrese un número 28\n",
            "Ingrese un número 30\n",
            "22.0,24.0,26.0,28.0,30.0 son diferentes\n",
            "30.0 es el mayor\n"
          ]
        }
      ]
    },
    {
      "cell_type": "code",
      "source": [
        "#Ejercicio 2: Se presentan 3 personas: definir cual es el mayor de los 3 y definir de acuerdo a su edad si es un adulto, adolescente o niño\n",
        "m1= float(input(\"Ingrese la edad de la primera persona \"))\n",
        "m2= float(input(\"Ingrese la edad de la segunda persona \"))\n",
        "m3= float(input(\"Ingrese la edad de la tercera persona \"))\n",
        "if m1==m2 and m1==m3 and m2==m3:\n",
        "  print(f\"{m1},{m2},{m3} son iguales, no puedo determinar cuál es el mayor\")\n",
        "if m1>m2 and m1>m3:\n",
        "  print(f\"La persona 1 es el mayor\")\n",
        "elif m2>m1 and m2>m3:\n",
        "  print(f\"La persona 2 es el mayor\")\n",
        "elif m3>m1 and m3>m2:\n",
        "  print(f\"La persona 3 es el mayor\")\n",
        "if m1>=18:\n",
        "  print(f\"La persona 1 es un adulto\")\n",
        "elif m1>=12 and m1<18:\n",
        "    print(f\"La persona 1 es un adolescente\")\n",
        "else:\n",
        "  print(f\"La persona 1 es un niño\")\n",
        "if m2>=18:\n",
        "  print(f\"La persona 2 es un adulto\")\n",
        "elif m2>=12 and m1<18:\n",
        "    print(f\"La persona 2 es un adolescente\")\n",
        "else:\n",
        "  print(f\"La persona 2 es un niño\")\n",
        "if m3>=18:\n",
        "  print(f\"La persona 3 es un adulto\")\n",
        "elif m3>=12 and m1<18:\n",
        "    print(f\"La persona 3 es un adolescente\")\n",
        "else:\n",
        "  print(f\"La persona 3 es un niño\")"
      ],
      "metadata": {
        "colab": {
          "base_uri": "https://localhost:8080/"
        },
        "id": "wKor1hsWX1-A",
        "outputId": "1bc12ccb-7b6f-4a25-b095-6979f2c4c5e8"
      },
      "execution_count": null,
      "outputs": [
        {
          "output_type": "stream",
          "name": "stdout",
          "text": [
            "Ingrese la edad de la primera persona 15\n",
            "Ingrese la edad de la segunda persona 15\n",
            "Ingrese la edad de la tercera persona 78\n",
            "La persona 3 es el mayor\n",
            "La persona 1 es un adolescente\n",
            "La persona 2 es un adolescente\n",
            "La persona 3 es un adulto\n"
          ]
        }
      ]
    },
    {
      "cell_type": "code",
      "source": [
        "#Ejercicio 3: En el ejercicio de las vocales, además de decidir si es mayúscula o minúscula,\n",
        "#informarle al usuario cuando éste introduce un caracter diferente a una vocal.\n",
        "caracter_usuario = input(\"Introduce un carácter: \")\n",
        "if caracter_usuario == \"a\" or caracter_usuario == \"e\" or caracter_usuario == \"i\" or caracter_usuario == \"o\" or caracter_usuario == \"u\":\n",
        "  print(f\"El carácter {caracter_usuario} es una vocal y está en minúscula\")\n",
        "elif caracter_usuario == \"A\" or caracter_usuario == \"E\" or caracter_usuario == \"I\" or caracter_usuario == \"O\" or caracter_usuario == \"U\":\n",
        "    print(f\"El carácter {caracter_usuario} es una vocal y está en mayúscula\")\n",
        "else:\n",
        "  print(f\"El carácter {caracter_usuario} no es una vocal\")\n"
      ],
      "metadata": {
        "colab": {
          "base_uri": "https://localhost:8080/"
        },
        "id": "yPrrWPGpYHsk",
        "outputId": "53fc4741-1c24-4aad-87b2-feaa01e9ded8"
      },
      "execution_count": null,
      "outputs": [
        {
          "output_type": "stream",
          "name": "stdout",
          "text": [
            "Introduce un carácter: 3\n",
            "El carácter 3 no es una vocal\n"
          ]
        }
      ]
    },
    {
      "cell_type": "code",
      "source": [
        "#Ejercicio 4: Imprimir si un número del 0 al 9 es impar. Si es superior o inferior al rango, anunciarle al usuario que no pertenece al rango.\n",
        "p= float(input(\"Ingrese un número del 0 al 9 \"))\n",
        "if p>=0 and p<=9:\n",
        "  if p%2==0:\n",
        "    print(f\"{p} es un número par\")\n",
        "  else:\n",
        "    print(f\"{p} es un número impar\")\n",
        "else:\n",
        "  print(f\"{p} no pertenece al rango\")"
      ],
      "metadata": {
        "colab": {
          "base_uri": "https://localhost:8080/"
        },
        "id": "uTMyFJpzYgNv",
        "outputId": "21b91abd-53ae-457c-b975-ad3413ed84ce"
      },
      "execution_count": null,
      "outputs": [
        {
          "output_type": "stream",
          "name": "stdout",
          "text": [
            "Ingrese un número del 0 al 9 20\n",
            "20.0 no pertenece al rango\n"
          ]
        }
      ]
    }
  ]
}