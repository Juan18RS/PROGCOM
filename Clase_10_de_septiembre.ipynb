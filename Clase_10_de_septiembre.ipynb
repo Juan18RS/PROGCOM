{
  "nbformat": 4,
  "nbformat_minor": 0,
  "metadata": {
    "colab": {
      "provenance": []
    },
    "kernelspec": {
      "name": "python3",
      "display_name": "Python 3"
    },
    "language_info": {
      "name": "python"
    }
  },
  "cells": [
    {
      "cell_type": "markdown",
      "source": [
        "#Estructuras de repetición\n",
        "1. Estructura Para:\n",
        "*   For in range (número de veces):\n",
        "*   For in range (número inicial, número final +1, paso):\n",
        "*   For in [lista]:\n",
        "2. Estructura mientras:\n",
        "\n",
        "\n",
        "\n"
      ],
      "metadata": {
        "id": "YljUnVC-OdEH"
      }
    },
    {
      "cell_type": "markdown",
      "source": [
        "## For in range (número de veces):Cuando se necesira repetir una acción un número de veces"
      ],
      "metadata": {
        "id": "MNrxYvy6Pk9v"
      }
    },
    {
      "cell_type": "code",
      "execution_count": null,
      "metadata": {
        "colab": {
          "base_uri": "https://localhost:8080/"
        },
        "id": "dYWmvhkROM-h",
        "outputId": "9bd144ce-f891-4e74-de30-2e6e4292c9c8"
      },
      "outputs": [
        {
          "output_type": "stream",
          "name": "stdout",
          "text": [
            "Colombia campeón\n",
            "Colombia campeón\n",
            "Colombia campeón\n",
            "Colombia campeón\n",
            "Colombia campeón\n"
          ]
        }
      ],
      "source": [
        "#Gritar 5 veces Colombia campeón\n",
        "for _ in range(5):\n",
        "  print(\"Colombia campeón\")"
      ]
    },
    {
      "cell_type": "markdown",
      "source": [
        "## For in range (número inicial, número final +1, paso): Cuando se necesita repetir una acción un número de veces entre el número inicial y el número final. El paso me representa la distancia entre la repetición."
      ],
      "metadata": {
        "id": "jN5PR9RPP5Gd"
      }
    },
    {
      "cell_type": "code",
      "source": [
        "#Imprimir la tabla de multiplicar de n\n",
        "n=int(input(\"Ingrese la tabla de multiplicar:\"))\n",
        "print(f\"Tabla de multiplicar del {n}\")\n",
        "for i in range(1,11):\n",
        "  print(f\"{n}x{i}={n*i}\")"
      ],
      "metadata": {
        "colab": {
          "base_uri": "https://localhost:8080/"
        },
        "id": "Zb4zk762QKLl",
        "outputId": "a84820ec-e053-40df-9ebc-2b21e2df6f1d"
      },
      "execution_count": null,
      "outputs": [
        {
          "output_type": "stream",
          "name": "stdout",
          "text": [
            "Ingrese la tabla de multiplicar:5\n",
            "Tabla de multiplicar del 5\n",
            "5x1=5\n",
            "5x2=10\n",
            "5x3=15\n",
            "5x4=20\n",
            "5x5=25\n",
            "5x6=30\n",
            "5x7=35\n",
            "5x8=40\n",
            "5x9=45\n",
            "5x10=50\n"
          ]
        }
      ]
    },
    {
      "cell_type": "code",
      "source": [
        "#Con paso\n",
        "for i in range(2,22,2):\n",
        "  print(f\"{int(i/2)}x{2}={int(i/2)*2}\")"
      ],
      "metadata": {
        "colab": {
          "base_uri": "https://localhost:8080/"
        },
        "id": "BzHEkZiUQ2Rc",
        "outputId": "7041dfe2-5598-4a07-d854-b7c71f665340"
      },
      "execution_count": null,
      "outputs": [
        {
          "output_type": "stream",
          "name": "stdout",
          "text": [
            "1x2=2\n",
            "2x2=4\n",
            "3x2=6\n",
            "4x2=8\n",
            "5x2=10\n",
            "6x2=12\n",
            "7x2=14\n",
            "8x2=16\n",
            "9x2=18\n",
            "10x2=20\n"
          ]
        }
      ]
    },
    {
      "cell_type": "code",
      "source": [
        "#Con paso para cualquier tabla\n",
        "n=int(input(\"Ingrese la tabla de multiplicar:\"))\n",
        "print(f\"Tabla de multiplicar del {n}\")\n",
        "for i in range(1*n,11*n,n):\n",
        "  print(f\"{int(i/n)}x{n}={int(i/n)*n}\")"
      ],
      "metadata": {
        "colab": {
          "base_uri": "https://localhost:8080/"
        },
        "id": "of2fTu20RqdN",
        "outputId": "286bf05b-ff9a-416a-dbb4-21e8d48a9f64"
      },
      "execution_count": null,
      "outputs": [
        {
          "output_type": "stream",
          "name": "stdout",
          "text": [
            "Ingrese la tabla de multiplicar:8\n",
            "Tabla de multiplicar del 8\n",
            "1x8=8\n",
            "2x8=16\n",
            "3x8=24\n",
            "4x8=32\n",
            "5x8=40\n",
            "6x8=48\n",
            "7x8=56\n",
            "8x8=64\n",
            "9x8=72\n",
            "10x8=80\n"
          ]
        }
      ]
    },
    {
      "cell_type": "markdown",
      "source": [
        "##For in [listas]: El for toma el valor de una lista"
      ],
      "metadata": {
        "id": "GBbHKoouTWkF"
      }
    },
    {
      "cell_type": "code",
      "source": [
        "a=[\"vainilla\",\"chocolate\",\"arequipe\",\"chicle\",\"fresa\"]\n",
        "#Quiero imprimir la disponibilidad de sabores\n",
        "print(\"Tenemos los siguientes sabores: \")\n",
        "for x in a:\n",
        "  print(x)"
      ],
      "metadata": {
        "colab": {
          "base_uri": "https://localhost:8080/"
        },
        "id": "mpSFhwRyTbMl",
        "outputId": "6b547fb6-991a-4cef-eb7b-5b15ad1f48fa"
      },
      "execution_count": null,
      "outputs": [
        {
          "output_type": "stream",
          "name": "stdout",
          "text": [
            "Tenemos los siguientes sabores: \n",
            "vainilla\n",
            "chocolate\n",
            "arequipe\n",
            "chicle\n",
            "fresa\n"
          ]
        }
      ]
    },
    {
      "cell_type": "code",
      "source": [
        "#Forma 1\n",
        "a=[\"1.vainilla\",\"2.chocolate\",\"3.arequipe\",\"4.chicle\",\"5.fresa\"]\n",
        "#Quiero imprimir la disponibilidad de sabores\n",
        "print(\"Tenemos los siguientes sabores: \")\n",
        "for x in a:\n",
        "  print(x)"
      ],
      "metadata": {
        "colab": {
          "base_uri": "https://localhost:8080/"
        },
        "id": "LO-VnmsHUCjB",
        "outputId": "29669a03-4ff2-4e90-938c-f7d438d9a9c7"
      },
      "execution_count": null,
      "outputs": [
        {
          "output_type": "stream",
          "name": "stdout",
          "text": [
            "Tenemos los siguientes sabores: \n",
            "1.vainilla\n",
            "2.chocolate\n",
            "3.arequipe\n",
            "4.chicle\n",
            "5.fresa\n"
          ]
        }
      ]
    },
    {
      "cell_type": "code",
      "source": [
        "#Forma 2\n",
        "a=[\"vainilla\",\"chocolate\",\"arequipe\",\"chicle\",\"fresa\"]\n",
        "#Quiero imprimir la disponibilidad de sabores\n",
        "print(\"Tenemos los siguientes sabores: \")\n",
        "b=1\n",
        "for x in a:\n",
        "  print(f\"{b}. {x}\")\n",
        "  b+=1"
      ],
      "metadata": {
        "colab": {
          "base_uri": "https://localhost:8080/"
        },
        "id": "fqM_pJUDUejB",
        "outputId": "34d886f1-d2ca-4149-d6ce-540b6de7a117"
      },
      "execution_count": null,
      "outputs": [
        {
          "output_type": "stream",
          "name": "stdout",
          "text": [
            "Tenemos los siguientes sabores: \n",
            "1. vainilla\n",
            "2. chocolate\n",
            "3. arequipe\n",
            "4. chicle\n",
            "5. fresa\n"
          ]
        }
      ]
    },
    {
      "cell_type": "markdown",
      "source": [
        "## Estructura mientras\n",
        "1. Se detiene cuando la condición de entrada es FALSA\n",
        "2. Se usa cuando **no** sabemos cuántas veces se debe repetir una acción\n",
        "3. Debo crear una condición dentro del while, para volver la condición inicial FALSA\n",
        "###while(condición):"
      ],
      "metadata": {
        "id": "5dQeCVJcVMDh"
      }
    },
    {
      "cell_type": "code",
      "source": [
        "c=1\n",
        "while True:\n",
        "  a=input(\"estoy adentro? \")\n",
        "  c+=1\n",
        "  if c==5: break"
      ],
      "metadata": {
        "colab": {
          "base_uri": "https://localhost:8080/"
        },
        "id": "n1nkr28EVhrH",
        "outputId": "e128dcde-be72-434b-ac8a-e2b595df9129"
      },
      "execution_count": null,
      "outputs": [
        {
          "name": "stdout",
          "output_type": "stream",
          "text": [
            "estoy adentro? si\n",
            "estoy adentro? no\n",
            "estoy adentro? no\n",
            "estoy adentro? no\n"
          ]
        }
      ]
    },
    {
      "cell_type": "code",
      "source": [
        "import random\n",
        "gasolina=random.randint(10,100)\n",
        "distancia=random.randint(10,20)\n",
        "\n",
        "while gasolina<=45: #Para activar AI\n",
        "  print(\"Detecto que necesito gasolina.\\nDesas ir a la gasolinera más cercana?\")\n",
        "  user=input(\"1. Sí\\n2. No\\n\")\n",
        "  if user==\"1\": #Para ver si quiere ir, no, se equivocó\n",
        "    print(f\"La gasolinera más cercana se encuentra a {distancia}km\")\n",
        "    gasolina=100\n",
        "  elif user==\"2\":\n",
        "    print(\"Comprendo\")\n",
        "    break\n",
        "  else:\n",
        "    print(\"Opción incorrecta\")\n",
        "    user=input(\"1. Sí\\n2. No\\n\")\n",
        "    while user!=\"1\" or user!=\"2\": #Obligar al usuario a responder bien\n",
        "      print(\"Opción incorrecta\")\n",
        "      user=input(\"1. Sí\\n2. No\\n\")"
      ],
      "metadata": {
        "id": "Y2sFFP_EWv3t"
      },
      "execution_count": null,
      "outputs": []
    }
  ]
}