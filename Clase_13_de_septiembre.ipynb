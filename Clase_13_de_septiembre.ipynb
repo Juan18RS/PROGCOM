{
  "nbformat": 4,
  "nbformat_minor": 0,
  "metadata": {
    "colab": {
      "provenance": []
    },
    "kernelspec": {
      "name": "python3",
      "display_name": "Python 3"
    },
    "language_info": {
      "name": "python"
    }
  },
  "cells": [
    {
      "cell_type": "markdown",
      "source": [
        "#Ejercicios de tarea\n",
        "Realizar los ejercicios propuestos usando for y while"
      ],
      "metadata": {
        "id": "xHhCmQKjIum7"
      }
    },
    {
      "cell_type": "markdown",
      "source": [
        "#Ejercicio 1\n",
        "Indicar si un número N es un número primo (siendo N un número que se lee)"
      ],
      "metadata": {
        "id": "SSJGSuqgHPj8"
      }
    },
    {
      "cell_type": "code",
      "execution_count": null,
      "metadata": {
        "id": "XfB5gu_cHIXl"
      },
      "outputs": [],
      "source": [
        "#Usando for\n",
        "n = int(input(\"Introduce un número: \"))\n",
        "for i in range(2, n):\n",
        "    if n % i == 0:\n",
        "        print(f\"El número {n} no es un número primo\")\n",
        "        break\n",
        "else:\n",
        "    print(f\"El número {n} es un número primo\")"
      ]
    },
    {
      "cell_type": "code",
      "source": [
        "#Usando while\n",
        "N = int(input(\"Introduce un número: \"))\n",
        "i = 2\n",
        "while i < N:\n",
        "    if N % i == 0:\n",
        "        print(f\"El número {N} no es un número primo\")\n",
        "        break\n",
        "    i += 1\n",
        "else:\n",
        "    print(f\"El número {N} es un número primo\")"
      ],
      "metadata": {
        "colab": {
          "base_uri": "https://localhost:8080/"
        },
        "id": "g70Lj_JEIYPO",
        "outputId": "0361fb51-5e21-4908-9f0a-878f8085f001"
      },
      "execution_count": null,
      "outputs": [
        {
          "output_type": "stream",
          "name": "stdout",
          "text": [
            "Introduce un número: 100\n",
            "El número 100 no es un número primo\n"
          ]
        }
      ]
    },
    {
      "cell_type": "markdown",
      "source": [
        "#Ejercicio 2\n",
        "Imprimir los 30 primeros números de Fibonnaci"
      ],
      "metadata": {
        "id": "C8m5OY4uHptM"
      }
    },
    {
      "cell_type": "code",
      "source": [
        "#Usando for\n",
        "I = 0\n",
        "J = 1\n",
        "for i in range(30):\n",
        "    print(I)\n",
        "    I, J = J, I + J\n"
      ],
      "metadata": {
        "colab": {
          "base_uri": "https://localhost:8080/"
        },
        "id": "b3VmslwFIa9Z",
        "outputId": "3a2d2e7f-cb47-4323-d7b2-71b536669561"
      },
      "execution_count": null,
      "outputs": [
        {
          "output_type": "stream",
          "name": "stdout",
          "text": [
            "0\n",
            "1\n",
            "1\n",
            "2\n",
            "3\n",
            "5\n",
            "8\n",
            "13\n",
            "21\n",
            "34\n",
            "55\n",
            "89\n",
            "144\n",
            "233\n",
            "377\n",
            "610\n",
            "987\n",
            "1597\n",
            "2584\n",
            "4181\n",
            "6765\n",
            "10946\n",
            "17711\n",
            "28657\n",
            "46368\n",
            "75025\n",
            "121393\n",
            "196418\n",
            "317811\n",
            "514229\n"
          ]
        }
      ]
    },
    {
      "cell_type": "code",
      "source": [
        "#Usando while\n",
        "I = 0\n",
        "J = 1\n",
        "cont = 0\n",
        "while cont < 30:\n",
        "    print(I)\n",
        "    I, J = J, I + J\n",
        "    cont += 1"
      ],
      "metadata": {
        "colab": {
          "base_uri": "https://localhost:8080/"
        },
        "id": "1c9XazyCIjRp",
        "outputId": "0eb21b9b-582e-49a9-90ef-12fc74c1c2c2"
      },
      "execution_count": null,
      "outputs": [
        {
          "output_type": "stream",
          "name": "stdout",
          "text": [
            "0\n",
            "1\n",
            "1\n",
            "2\n",
            "3\n",
            "5\n",
            "8\n",
            "13\n",
            "21\n",
            "34\n",
            "55\n",
            "89\n",
            "144\n",
            "233\n",
            "377\n",
            "610\n",
            "987\n",
            "1597\n",
            "2584\n",
            "4181\n",
            "6765\n",
            "10946\n",
            "17711\n",
            "28657\n",
            "46368\n",
            "75025\n",
            "121393\n",
            "196418\n",
            "317811\n",
            "514229\n"
          ]
        }
      ]
    },
    {
      "cell_type": "markdown",
      "source": [
        "#Ejercicio 3\n",
        "Calcular la factorial de un número N (siendo N un número que se lee)"
      ],
      "metadata": {
        "id": "UkNb83kIHxIj"
      }
    },
    {
      "cell_type": "code",
      "source": [
        "#Usando for\n",
        "n = int(input(\"Introduce un número: \"))\n",
        "factorial = 1\n",
        "for i in range(1, n + 1):\n",
        "    factorial *= i\n",
        "print(f\"El factorial de {n} es {factorial}\")"
      ],
      "metadata": {
        "colab": {
          "base_uri": "https://localhost:8080/"
        },
        "id": "_6uO2U4CIla-",
        "outputId": "639164b6-9413-4669-adab-dbb6eb30798c"
      },
      "execution_count": null,
      "outputs": [
        {
          "output_type": "stream",
          "name": "stdout",
          "text": [
            "Introduce un número: 5\n",
            "El factorial de 5 es 120\n"
          ]
        }
      ]
    },
    {
      "cell_type": "code",
      "source": [
        "#Usando while\n",
        "n = int(input(\"Introduce un número: \"))\n",
        "factorial = 1\n",
        "i = 1\n",
        "while i <= n:\n",
        "    factorial *= i\n",
        "    i += 1\n",
        "print(f\"El factorial de {n} es {factorial}\")"
      ],
      "metadata": {
        "colab": {
          "base_uri": "https://localhost:8080/"
        },
        "id": "hBETcdf0IqYn",
        "outputId": "8a2ccec6-96eb-43d0-b3c1-8290661179c9"
      },
      "execution_count": null,
      "outputs": [
        {
          "output_type": "stream",
          "name": "stdout",
          "text": [
            "Introduce un número: 7\n",
            "El factorial de 7 es 5040\n"
          ]
        }
      ]
    },
    {
      "cell_type": "markdown",
      "source": [
        "#Ejercicio 4\n",
        "Calcular la factorial de 10 números diferentes cuyos valores se leen"
      ],
      "metadata": {
        "id": "vDYQRAgQH642"
      }
    },
    {
      "cell_type": "code",
      "source": [
        "#Usando for\n",
        "for i in range(10):\n",
        "    n = int(input(\"Introduce un número: \"))\n",
        "    factorial = 1\n",
        "    for j in range(1, n + 1):\n",
        "        factorial *= j\n",
        "    print(f\"El factorial de {n} es {factorial}\")"
      ],
      "metadata": {
        "id": "4wSG04PNInM7",
        "colab": {
          "base_uri": "https://localhost:8080/"
        },
        "outputId": "f9e380ad-1448-4f86-8abc-2b22b3afcbe9"
      },
      "execution_count": null,
      "outputs": [
        {
          "output_type": "stream",
          "name": "stdout",
          "text": [
            "Introduce un número: 5\n",
            "El factorial de 5 es 120\n",
            "Introduce un número: 4\n",
            "El factorial de 4 es 24\n",
            "Introduce un número: 6\n",
            "El factorial de 6 es 720\n",
            "Introduce un número: 9\n",
            "El factorial de 9 es 362880\n",
            "Introduce un número: 7\n",
            "El factorial de 7 es 5040\n",
            "Introduce un número: 12\n",
            "El factorial de 12 es 479001600\n",
            "Introduce un número: 45\n",
            "El factorial de 45 es 119622220865480194561963161495657715064383733760000000000\n",
            "Introduce un número: 8\n",
            "El factorial de 8 es 40320\n",
            "Introduce un número: 7\n",
            "El factorial de 7 es 5040\n",
            "Introduce un número: 4\n",
            "El factorial de 4 es 24\n"
          ]
        }
      ]
    },
    {
      "cell_type": "code",
      "source": [
        "#Usando while\n",
        "cont = 0\n",
        "while cont < 10:\n",
        "  n= int(input(\"Introduce un número: \"))\n",
        "  factorial = 1\n",
        "  i = 1\n",
        "  while i <= n:\n",
        "    factorial *= i\n",
        "    i += 1\n",
        "  print(f\"El factorial de {n} es {factorial}\")\n",
        "  cont += 1"
      ],
      "metadata": {
        "id": "90ud3mM1Irsf",
        "colab": {
          "base_uri": "https://localhost:8080/"
        },
        "outputId": "951d7b1e-91b0-4f14-c9bb-95ce09e2034b"
      },
      "execution_count": null,
      "outputs": [
        {
          "output_type": "stream",
          "name": "stdout",
          "text": [
            "Introduce un número: 4\n",
            "El factorial de 4 es 24\n",
            "Introduce un número: 8\n",
            "El factorial de 8 es 40320\n",
            "Introduce un número: 9\n",
            "El factorial de 9 es 362880\n",
            "Introduce un número: 5\n",
            "El factorial de 5 es 120\n",
            "Introduce un número: 4\n",
            "El factorial de 4 es 24\n",
            "Introduce un número: 2\n",
            "El factorial de 2 es 2\n",
            "Introduce un número: 3\n",
            "El factorial de 3 es 6\n",
            "Introduce un número: 7\n",
            "El factorial de 7 es 5040\n",
            "Introduce un número: 8\n",
            "El factorial de 8 es 40320\n",
            "Introduce un número: 1\n",
            "El factorial de 1 es 1\n"
          ]
        }
      ]
    },
    {
      "cell_type": "markdown",
      "source": [
        "#Ejercicio 5\n",
        "Leer 20 números y encontrar el mayor y el menor valor leídos"
      ],
      "metadata": {
        "id": "rZMBKcicIH7L"
      }
    },
    {
      "cell_type": "code",
      "source": [
        "#Usando for\n",
        "lista=[]\n",
        "numeros=1\n",
        "c=1\n",
        "for i in range(21): #que no lea más de 20 números\n",
        "  numeros=int(input(\"Ingrese un número: \"))\n",
        "  c+=1\n",
        "  lista.append(numeros) #agregar los números a una lista\n",
        "  lista.sort() #ordenar la lista de menor a mayor\n",
        "  if c==21: break #dejar de solicitar cuando el contador llegue 21\n",
        "longitud=len(lista)\n",
        "print(\"La longitud de la lista son \", longitud,\" números\")\n",
        "print(\"Los números son: \", lista)\n",
        "print(\"El número menor es: \", lista[0]) #imprimir el primer numero de la lista, osea el menor\n",
        "print(\"El número mayor es: \", lista[19]) #imprimir el ultimo numero de la lista, osea el mayor\n"
      ],
      "metadata": {
        "id": "hEHZiPjUIn5B",
        "colab": {
          "base_uri": "https://localhost:8080/"
        },
        "outputId": "40c28989-4a4a-4932-86bc-3430b5c6adfc"
      },
      "execution_count": null,
      "outputs": [
        {
          "output_type": "stream",
          "name": "stdout",
          "text": [
            "Ingrese un número: 1\n",
            "Ingrese un número: 1\n",
            "Ingrese un número: 5\n",
            "Ingrese un número: 5\n",
            "Ingrese un número: 2\n",
            "Ingrese un número: 14\n",
            "Ingrese un número: 20\n",
            "Ingrese un número: 19\n",
            "Ingrese un número: 18\n",
            "Ingrese un número: 18\n",
            "Ingrese un número: 17\n",
            "Ingrese un número: 10\n",
            "Ingrese un número: 12\n",
            "Ingrese un número: 3\n",
            "Ingrese un número: 4\n",
            "Ingrese un número: 6\n",
            "Ingrese un número: 52\n",
            "Ingrese un número: 10\n",
            "Ingrese un número: 48\n",
            "Ingrese un número: 151\n",
            "La longitud de la lista son  20  números\n",
            "Los números son:  [1, 1, 2, 3, 4, 5, 5, 6, 10, 10, 12, 14, 17, 18, 18, 19, 20, 48, 52, 151]\n",
            "El número menor es:  1\n",
            "El número mayor es:  151\n"
          ]
        }
      ]
    },
    {
      "cell_type": "code",
      "source": [
        "#Usando while\n",
        "lista=[]\n",
        "numeros=1\n",
        "c=1\n",
        "while c<21: #en vez de el for y el brake se usa el while para cortar el proceso a los 20 números\n",
        "  numeros=int(input(\"Ingrese un número: \"))\n",
        "  c+=1\n",
        "  lista.append(numeros)\n",
        "  lista.sort()\n",
        "longitud=len(lista)\n",
        "print(\"La longitud de la lista son \", longitud,\" números\")\n",
        "print(\"Los números son: \", lista)\n",
        "print(\"El número menor es: \", lista[0])\n",
        "print(\"El número mayor es: \", lista[19])"
      ],
      "metadata": {
        "id": "emDODupFIsPg",
        "colab": {
          "base_uri": "https://localhost:8080/"
        },
        "outputId": "07b49106-5bdc-4c31-ba31-f0d51ca656a4"
      },
      "execution_count": null,
      "outputs": [
        {
          "output_type": "stream",
          "name": "stdout",
          "text": [
            "Ingrese un número: 45\n",
            "Ingrese un número: 32\n",
            "Ingrese un número: 54\n",
            "Ingrese un número: 12\n",
            "Ingrese un número: 65\n",
            "Ingrese un número: 23\n",
            "Ingrese un número: 65\n",
            "Ingrese un número: 12\n",
            "Ingrese un número: 87\n",
            "Ingrese un número: 34\n",
            "Ingrese un número: 94\n",
            "Ingrese un número: 34\n",
            "Ingrese un número: 76\n",
            "Ingrese un número: 23\n",
            "Ingrese un número: 87\n",
            "Ingrese un número: 13\n",
            "Ingrese un número: 65\n",
            "Ingrese un número: 23\n",
            "Ingrese un número: 65\n",
            "Ingrese un número: 39\n",
            "La longitud de la lista son  20  números\n",
            "Los números son:  [12, 12, 13, 23, 23, 23, 32, 34, 34, 39, 45, 54, 65, 65, 65, 65, 76, 87, 87, 94]\n",
            "El número menor es:  12\n",
            "El número mayor es:  94\n"
          ]
        }
      ]
    },
    {
      "cell_type": "markdown",
      "source": [
        "#Ejercicio 6\n",
        "\n",
        "Mostrar la tabla de multiplicar del número que seleccione el usuario. Revisar que esté en el rango de 1 a 10.\n"
      ],
      "metadata": {
        "id": "2g_M_yAmaDuk"
      }
    },
    {
      "cell_type": "code",
      "source": [
        "#Usando for\n",
        "n = int(input(\"Introduce un número sobre el cual quieres conocer su tabla: \"))\n",
        "for i in range(11):\n",
        "    print(f\"{n} x {i} = {n*i}\")"
      ],
      "metadata": {
        "id": "xVqiLKd3aHgK",
        "colab": {
          "base_uri": "https://localhost:8080/"
        },
        "outputId": "c537d2cc-342f-4eae-9f31-671b7beaf36f"
      },
      "execution_count": null,
      "outputs": [
        {
          "output_type": "stream",
          "name": "stdout",
          "text": [
            "Introduce un número sobre el cual quieres conocer su tabla: 1\n",
            "1 x 0 = 0\n",
            "1 x 1 = 1\n",
            "1 x 2 = 2\n",
            "1 x 3 = 3\n",
            "1 x 4 = 4\n",
            "1 x 5 = 5\n",
            "1 x 6 = 6\n",
            "1 x 7 = 7\n",
            "1 x 8 = 8\n",
            "1 x 9 = 9\n",
            "1 x 10 = 10\n"
          ]
        }
      ]
    },
    {
      "cell_type": "code",
      "source": [
        "#Usando While\n",
        "n=int(input(\"Introduce un número sobre el cual quieres conocer su tabla: \"))\n",
        "cont = 0\n",
        "while cont < 11:\n",
        "  print(f\"{n} x {cont} = {n*cont}\")\n",
        "  cont += 1"
      ],
      "metadata": {
        "id": "lz685y4FaHBP",
        "colab": {
          "base_uri": "https://localhost:8080/"
        },
        "outputId": "47b059b8-364e-43bc-a6c7-6be828926b7e"
      },
      "execution_count": null,
      "outputs": [
        {
          "output_type": "stream",
          "name": "stdout",
          "text": [
            "Introduce un número sobre el cual quieres conocer su tabla: 5\n",
            "5 x 0 = 0\n",
            "5 x 1 = 5\n",
            "5 x 2 = 10\n",
            "5 x 3 = 15\n",
            "5 x 4 = 20\n",
            "5 x 5 = 25\n",
            "5 x 6 = 30\n",
            "5 x 7 = 35\n",
            "5 x 8 = 40\n",
            "5 x 9 = 45\n",
            "5 x 10 = 50\n"
          ]
        }
      ]
    },
    {
      "cell_type": "markdown",
      "source": [
        "#Ejercicio 7\n",
        "Calcular la suma siguiente: 100+90+80+70+…+0"
      ],
      "metadata": {
        "id": "FAcnJ1LO9UDE"
      }
    },
    {
      "cell_type": "code",
      "source": [
        "# Usando for\n",
        "suma_for = 0\n",
        "for num in range(100, -1, -10):\n",
        "    suma_for += num\n",
        "print(\"total:\", suma_for)"
      ],
      "metadata": {
        "colab": {
          "base_uri": "https://localhost:8080/"
        },
        "id": "Vq8L5Q099caR",
        "outputId": "9063250c-ce54-405d-b33b-469d325fe2c1"
      },
      "execution_count": null,
      "outputs": [
        {
          "output_type": "stream",
          "name": "stdout",
          "text": [
            "total: 550\n"
          ]
        }
      ]
    },
    {
      "cell_type": "code",
      "source": [
        "# Usando while\n",
        "suma_while = 0\n",
        "num = 100\n",
        "while num >= 0:\n",
        "    suma_while += num\n",
        "    num -= 10\n",
        "print(\"Suma usando while:\", suma_while)\n"
      ],
      "metadata": {
        "id": "vMwmVAtvRxfO",
        "colab": {
          "base_uri": "https://localhost:8080/"
        },
        "outputId": "3b01007f-7945-4e15-d32d-792652136721"
      },
      "execution_count": null,
      "outputs": [
        {
          "output_type": "stream",
          "name": "stdout",
          "text": [
            "Suma usando while: 550\n"
          ]
        }
      ]
    },
    {
      "cell_type": "markdown",
      "source": [
        "#Ejercicio 8\n",
        "Leer un número entero N y calcular la siguiente serie:\n",
        "1- 1/2 + 1/3 - 1/4 +...+/- 1/N\n"
      ],
      "metadata": {
        "id": "8rgIZvmnbOLY"
      }
    },
    {
      "cell_type": "code",
      "source": [
        "#Usando for\n",
        "n = int(input(\"Introduce un número: \"))\n",
        "resultado=1\n",
        "for i in range(2,n+1):\n",
        "    if i % 2 == 0:\n",
        "        resultado -= 1 / i\n",
        "    else:\n",
        "        resultado += 1 / i\n",
        "print(f\"El resultado de la serie es {resultado}\")"
      ],
      "metadata": {
        "id": "HZtevbgjddSc",
        "colab": {
          "base_uri": "https://localhost:8080/"
        },
        "outputId": "01706094-1766-46cb-d6d0-f0e4e1103161"
      },
      "execution_count": 28,
      "outputs": [
        {
          "output_type": "stream",
          "name": "stdout",
          "text": [
            "Introduce un número: 8\n",
            "El resultado de la serie es 0.6345238095238095\n"
          ]
        }
      ]
    },
    {
      "cell_type": "code",
      "source": [
        "#Usando while\n",
        "n = int(input(\"Introduce un número: \"))\n",
        "i = 2\n",
        "resultado = 1\n",
        "while i <= n:\n",
        "  if i % 2 == 0:\n",
        "    resultado -= 1 / i\n",
        "  else:\n",
        "    resultado += 1 / i\n",
        "  i += 1\n",
        "print(f\"El resultado de la serie es {resultado}\")"
      ],
      "metadata": {
        "colab": {
          "base_uri": "https://localhost:8080/"
        },
        "id": "pBGaBE21eU0J",
        "outputId": "c180cda1-cf68-409b-9179-31f9849a243b"
      },
      "execution_count": 27,
      "outputs": [
        {
          "output_type": "stream",
          "name": "stdout",
          "text": [
            "Introduce un número:8\n",
            "El resultado de la serie es 0.6345238095238095\n"
          ]
        }
      ]
    },
    {
      "cell_type": "markdown",
      "source": [
        "#Ejercicio 9\n",
        "Leer un número entero N y calcular el resultado de la serie: 2/1 + 4/3 + 6/5 +...+ 12/11 + ... Hasta N valores."
      ],
      "metadata": {
        "id": "gy4rYI8veVTX"
      }
    },
    {
      "cell_type": "code",
      "source": [
        "#Usando for\n",
        "N=int(input(\"Introduce un número \"))\n",
        "suma=0\n",
        "for i in range(N):\n",
        "  suma += (2*i+2)/(2*i+1)\n",
        "print(suma)"
      ],
      "metadata": {
        "colab": {
          "base_uri": "https://localhost:8080/"
        },
        "id": "opaWxf82e7g4",
        "outputId": "4aaffde9-af6e-48d6-b26a-1b088d77c990"
      },
      "execution_count": null,
      "outputs": [
        {
          "output_type": "stream",
          "name": "stdout",
          "text": [
            "Introduce un número 5\n",
            "6.787301587301586\n"
          ]
        }
      ]
    },
    {
      "cell_type": "code",
      "source": [
        "#Usando while\n",
        "N=int(input(\"Introduce un número \"))\n",
        "suma=0\n",
        "i=0\n",
        "while i<N:\n",
        "  suma += (2*i+2)/(2*i+1)\n",
        "  i+=1\n",
        "print(suma)"
      ],
      "metadata": {
        "colab": {
          "base_uri": "https://localhost:8080/"
        },
        "id": "pzKKJbSfe9k3",
        "outputId": "9b1f3f85-728a-40d5-b6b1-63eb7c1ab54f"
      },
      "execution_count": null,
      "outputs": [
        {
          "output_type": "stream",
          "name": "stdout",
          "text": [
            "Introduce un número 5\n",
            "6.787301587301586\n"
          ]
        }
      ]
    },
    {
      "cell_type": "markdown",
      "source": [
        "#Ejercicio 10\n",
        "Multiplicar los números introducidos por el usuario que estén en el rango del 1 al 10. Terminar cuando el usuario introduzca un número fuera del rango y mostrar el resultado."
      ],
      "metadata": {
        "id": "zh_Fx4oz-ogz"
      }
    },
    {
      "cell_type": "code",
      "source": [
        "# Usando for\n",
        "multiplicacion = 1\n",
        "for _ in range(100):  # Establecemos un límite de iteraciones altas\n",
        "    num = int(input(\"Introduce un número entre 1 y 10 (fuera de rango para terminar): \"))\n",
        "    if num < 1 or num > 10:\n",
        "        break\n",
        "    multiplicacion *= num\n",
        "\n",
        "print(\"Resultado de la multiplicación:\", multiplicacion)"
      ],
      "metadata": {
        "colab": {
          "base_uri": "https://localhost:8080/"
        },
        "id": "xaKYYqzY_W-r",
        "outputId": "417d03a1-c96c-4615-da8f-148c15081d1d"
      },
      "execution_count": null,
      "outputs": [
        {
          "output_type": "stream",
          "name": "stdout",
          "text": [
            "Introduce un número entre 1 y 10 (fuera de rango para terminar): 5\n",
            "Introduce un número entre 1 y 10 (fuera de rango para terminar): 11\n",
            "Resultado de la multiplicación: 5\n"
          ]
        }
      ]
    },
    {
      "cell_type": "code",
      "source": [
        "# Usando while\n",
        "multiplicacion = 1\n",
        "\n",
        "while True:\n",
        "    num = int(input(\"Introduce un número entre 1 y 10 (fuera de rango para terminar): \"))\n",
        "    if num < 1 or num > 10:\n",
        "        break\n",
        "    multiplicacion *= num\n",
        "\n",
        "print(\"Resultado de la multiplicación:\", multiplicacion)"
      ],
      "metadata": {
        "colab": {
          "base_uri": "https://localhost:8080/"
        },
        "id": "oTrl-lJv_whM",
        "outputId": "dcd1b7d3-9bb6-47c6-d9a3-6c92cff95507"
      },
      "execution_count": null,
      "outputs": [
        {
          "output_type": "stream",
          "name": "stdout",
          "text": [
            "Introduce un número entre 1 y 10 (fuera de rango para terminar): 5\n",
            "Introduce un número entre 1 y 10 (fuera de rango para terminar): 5\n",
            "Introduce un número entre 1 y 10 (fuera de rango para terminar): 11\n",
            "Resultado de la multiplicación: 25\n"
          ]
        }
      ]
    }
  ]
}