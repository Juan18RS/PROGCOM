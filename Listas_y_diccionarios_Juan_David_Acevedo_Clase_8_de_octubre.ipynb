{
  "nbformat": 4,
  "nbformat_minor": 0,
  "metadata": {
    "colab": {
      "provenance": []
    },
    "kernelspec": {
      "name": "python3",
      "display_name": "Python 3"
    },
    "language_info": {
      "name": "python"
    }
  },
  "cells": [
    {
      "cell_type": "markdown",
      "source": [
        "#Listas\n",
        "Definición: Es un conjunto de objetos que se identifican por un nombre y un índice. Las listas en Python se definen entre [] y los objetos que éstas contienen se separan por comas ( , ).\n",
        "##Métodos\n",
        "1. Append: Añade un ítem al final de la lista\n",
        "2. clear: Vacía todos los ítems de una lista\n",
        "3. extend: Une una lista a otra\n",
        "4. count: Cuenta el número de veces que aparece un ítem\n",
        "5. index: Devuelve el índice en el que aparece un ítem (error si no aparece):\n",
        "6. insert: Agrega un ítem a la lista en un índice específico\n",
        "7. pop: Extrae un ítem de la lista y lo borra\n",
        "8. remove: Borra el primer ítem de la lista cuyo valor concuerde con el que indicamos\n",
        "9. reverse: Le da la vuelta a la lista actual\n",
        "10. sort: Ordena automáticamente los ítems de una lista por su valor de menor a mayor\n"
      ],
      "metadata": {
        "id": "vmdL1111hMm-"
      }
    },
    {
      "cell_type": "code",
      "execution_count": 13,
      "metadata": {
        "colab": {
          "base_uri": "https://localhost:8080/"
        },
        "id": "uVEdBAzVSwTz",
        "outputId": "087333fe-d72f-41a6-e8c5-fe4c2a1c4069"
      },
      "outputs": [
        {
          "output_type": "stream",
          "name": "stdout",
          "text": [
            "[23, 9, 4, 27, 8, 18, 4]\n",
            "['Juan', 'David', 'Acevedo', 'Vega', 'Jenith', 'Vega', 'Jhon']\n"
          ]
        }
      ],
      "source": [
        "#Append()\n",
        "lista1= [23,9,4,27,8,18]\n",
        "lista1.append(4)\n",
        "print(lista1)\n",
        "lista2= [\"Juan\", \"David\", \"Acevedo\", \"Vega\", \"Jenith\", \"Vega\"]\n",
        "lista2.append(\"Jhon\")\n",
        "print(lista2)"
      ]
    },
    {
      "cell_type": "code",
      "source": [
        "#clear\n",
        "lista1= [23,9,4,27,8,18]\n",
        "lista1.clear()\n",
        "print(lista1)\n",
        "lista2= [\"Juan\", \"David\", \"Acevedo\", \"Vega\", \"Jenith\", \"Vega\"]\n",
        "lista2.clear()\n",
        "print(lista2)"
      ],
      "metadata": {
        "colab": {
          "base_uri": "https://localhost:8080/"
        },
        "id": "vjS5MWUKkP9w",
        "outputId": "b01d6d91-265d-4cba-d4e1-062f9c7adcaa"
      },
      "execution_count": 17,
      "outputs": [
        {
          "output_type": "stream",
          "name": "stdout",
          "text": [
            "[]\n",
            "[]\n"
          ]
        }
      ]
    },
    {
      "cell_type": "code",
      "source": [
        "#extend\n",
        "lista1= [23,9,4,27,8,18]\n",
        "lista2= [\"Juan\", \"David\", \"Acevedo\", \"Vega\", \"Jenith\", \"Vega\"]\n",
        "lista1.extend(lista2)\n",
        "print(lista1)"
      ],
      "metadata": {
        "colab": {
          "base_uri": "https://localhost:8080/"
        },
        "id": "czJbnVWgls6b",
        "outputId": "a0e5dee7-103f-44be-e463-c142c2c9f202"
      },
      "execution_count": 18,
      "outputs": [
        {
          "output_type": "stream",
          "name": "stdout",
          "text": [
            "[23, 9, 4, 27, 8, 18, 'Juan', 'David', 'Acevedo', 'Vega', 'Jenith', 'Vega']\n"
          ]
        }
      ]
    },
    {
      "cell_type": "code",
      "source": [
        "#count\n",
        "lista1= [23,9,4,27,8,18]\n",
        "lista2= [\"Juan\", \"David\", \"Acevedo\", \"Vega\", \"Jenith\", \"Vega\"]\n",
        "print(lista1.count(4))\n",
        "print(lista2.count(\"Vega\"))"
      ],
      "metadata": {
        "colab": {
          "base_uri": "https://localhost:8080/"
        },
        "id": "OfxWnaBll4Ba",
        "outputId": "288fd438-b116-4bec-92a1-0c7421cc9a7f"
      },
      "execution_count": 19,
      "outputs": [
        {
          "output_type": "stream",
          "name": "stdout",
          "text": [
            "1\n",
            "2\n"
          ]
        }
      ]
    },
    {
      "cell_type": "code",
      "source": [
        "#index\n",
        "lista1= [23,9,4,27,8,18]\n",
        "lista2= [\"Juan\", \"David\", \"Acevedo\", \"Vega\", \"Jenith\", \"Vega\"]\n",
        "print(lista1.index(4))\n",
        "print(lista2.index(\"Vega\"))"
      ],
      "metadata": {
        "colab": {
          "base_uri": "https://localhost:8080/"
        },
        "id": "KRH5riV9l9JO",
        "outputId": "f6ffcd20-9372-488d-a4e9-1d358839dca1"
      },
      "execution_count": 20,
      "outputs": [
        {
          "output_type": "stream",
          "name": "stdout",
          "text": [
            "2\n",
            "3\n"
          ]
        }
      ]
    },
    {
      "cell_type": "code",
      "source": [
        "#insert\n",
        "lista1= [23,9,4,27,8,18]\n",
        "lista2= [\"Juan\", \"David\", \"Acevedo\", \"Vega\", \"Jenith\", \"Vega\"]\n",
        "lista1.insert(2,4)\n",
        "print(lista1)\n",
        "lista2.insert(5,\"Jhon\")\n",
        "print(lista2)"
      ],
      "metadata": {
        "colab": {
          "base_uri": "https://localhost:8080/"
        },
        "id": "pmZOYOemmEOh",
        "outputId": "456614e7-3fba-4523-d8da-96cbead15b2f"
      },
      "execution_count": 22,
      "outputs": [
        {
          "output_type": "stream",
          "name": "stdout",
          "text": [
            "[23, 9, 4, 4, 27, 8, 18]\n",
            "['Juan', 'David', 'Acevedo', 'Vega', 'Jenith', 'Jhon', 'Vega']\n"
          ]
        }
      ]
    },
    {
      "cell_type": "code",
      "source": [
        "#pop\n",
        "lista1= [23,9,4,27,8,18]\n",
        "lista2= [\"Juan\", \"David\", \"Acevedo\", \"Vega\", \"Jenith\", \"Vega\"]\n",
        "lista1.pop(2)\n",
        "print(lista1)\n",
        "lista2.pop(5)\n",
        "print(lista2)"
      ],
      "metadata": {
        "colab": {
          "base_uri": "https://localhost:8080/"
        },
        "id": "duQXLY0WmRLT",
        "outputId": "bbec2a02-b066-4ef9-a764-4109def5afc5"
      },
      "execution_count": 24,
      "outputs": [
        {
          "output_type": "stream",
          "name": "stdout",
          "text": [
            "[23, 9, 27, 8, 18]\n",
            "['Juan', 'David', 'Acevedo', 'Vega', 'Jenith']\n"
          ]
        }
      ]
    },
    {
      "cell_type": "code",
      "source": [
        "#remove\n",
        "lista1= [23,9,4,27,8,18]\n",
        "lista2= [\"Juan\", \"David\", \"Acevedo\", \"Vega\", \"Jenith\", \"Vega\"]\n",
        "lista1.remove(4)\n",
        "print(lista1)\n",
        "lista2.remove(\"Vega\")\n",
        "print(lista2)"
      ],
      "metadata": {
        "colab": {
          "base_uri": "https://localhost:8080/"
        },
        "id": "dHQriC1imWup",
        "outputId": "dfe7226b-f8e0-42a6-d719-7bad8a3ff448"
      },
      "execution_count": 25,
      "outputs": [
        {
          "output_type": "stream",
          "name": "stdout",
          "text": [
            "[23, 9, 27, 8, 18]\n",
            "['Juan', 'David', 'Acevedo', 'Jenith', 'Vega']\n"
          ]
        }
      ]
    },
    {
      "cell_type": "code",
      "source": [
        "#reverse\n",
        "lista1= [23,9,4,27,8,18]\n",
        "lista2= [\"Juan\", \"David\", \"Acevedo\", \"Vega\", \"Jenith\", \"Vega\"]\n",
        "lista1.reverse()\n",
        "print(lista1)\n",
        "lista2.reverse()\n",
        "print(lista2)"
      ],
      "metadata": {
        "colab": {
          "base_uri": "https://localhost:8080/"
        },
        "id": "Z3X8-tLmmbZG",
        "outputId": "14a783a7-6575-443a-bc57-286b0b04790e"
      },
      "execution_count": 26,
      "outputs": [
        {
          "output_type": "stream",
          "name": "stdout",
          "text": [
            "[18, 8, 27, 4, 9, 23]\n",
            "['Vega', 'Jenith', 'Vega', 'Acevedo', 'David', 'Juan']\n"
          ]
        }
      ]
    },
    {
      "cell_type": "code",
      "source": [
        "#sort\n",
        "lista1= [23,9,4,27,8,18]\n",
        "lista2= [\"Juan\", \"David\", \"Acevedo\", \"Vega\", \"Jenith\", \"Vega\"]\n",
        "lista1.sort()\n",
        "print(lista1)\n",
        "lista2.sort()\n",
        "print(lista2)"
      ],
      "metadata": {
        "colab": {
          "base_uri": "https://localhost:8080/"
        },
        "id": "a71DJVY1mgDt",
        "outputId": "9522ec97-610d-4bbb-b0ba-5b239c06ae4c"
      },
      "execution_count": 27,
      "outputs": [
        {
          "output_type": "stream",
          "name": "stdout",
          "text": [
            "[4, 8, 9, 18, 23, 27]\n",
            "['Acevedo', 'David', 'Jenith', 'Juan', 'Vega', 'Vega']\n"
          ]
        }
      ]
    },
    {
      "cell_type": "markdown",
      "source": [
        "#Diccionarios\n",
        "Son una estructura de datos que permite almacenar su contenido en forma de llave y valor.\n",
        "##Métodos\n",
        "1. get: Busca un elemento a partir de su clave y si no lo encuentra devuelve un valor por defecto\n",
        "2. keys: Genera una lista en clave de los registros del diccionario\n",
        "3. values: Genera una lista en valor de los registros del diccionario\n",
        "4. items: Genera una lista en clave-valor de los registros del diccionario\n",
        "5. pop: Extrae un registro de un diccionario a partir de su clave y lo borra, acepta valor por defecto\n",
        "6. clear: Borra todos los registros de un diccionario\n",
        "7. update: El método update se llama sobre un diccionario y tiene como entrada otro diccionario.\n",
        "8. popitem: El método popitem() elimina de manera aleatoria un elemento del diccionario.\n",
        "9. copy: Retorna una copia superficial del diccionario.\n",
        "10. fromkeys(seq, valor): Crea un nuevo diccionario a partir de una secuencia de claves, asignándoles un valor común.\n"
      ],
      "metadata": {
        "id": "yNJVoY0-mlFE"
      }
    },
    {
      "cell_type": "code",
      "source": [
        "#get\n",
        "dict1={\"nombre\":\"Juan\",\"apellido\":\"Acevedo\"}\n",
        "dict2={\"día\":23,\"mes\":9,\"año\":2004,}\n",
        "dict1.get(4)\n",
        "print(dict1)\n",
        "dict2.get(\"Vega\")\n",
        "print(dict2)"
      ],
      "metadata": {
        "colab": {
          "base_uri": "https://localhost:8080/"
        },
        "id": "1F6IXq1PnkZd",
        "outputId": "182ff100-0515-4538-b264-45741ffb5de2"
      },
      "execution_count": 33,
      "outputs": [
        {
          "output_type": "stream",
          "name": "stdout",
          "text": [
            "{'nombre': 'Juan', 'apellido': 'Acevedo'}\n",
            "{'día': 23, 'mes': 9, 'año': 2004}\n"
          ]
        }
      ]
    },
    {
      "cell_type": "code",
      "source": [
        "#keys\n",
        "dict1={\"nombre\":\"Juan\",\"apellido\":\"Acevedo\"}\n",
        "dict2={\"día\":23,\"mes\":9,\"año\":2004,}\n",
        "print(dict1.keys())\n",
        "print(dict2.keys())"
      ],
      "metadata": {
        "colab": {
          "base_uri": "https://localhost:8080/"
        },
        "id": "1tWGVYBeo93V",
        "outputId": "d7a9eef0-c084-493b-93a8-1b3e6c2e68e7"
      },
      "execution_count": 34,
      "outputs": [
        {
          "output_type": "stream",
          "name": "stdout",
          "text": [
            "dict_keys(['nombre', 'apellido'])\n",
            "dict_keys(['día', 'mes', 'año'])\n"
          ]
        }
      ]
    },
    {
      "cell_type": "code",
      "source": [
        "#values\n",
        "dict1={\"nombre\":\"Juan\",\"apellido\":\"Acevedo\"}\n",
        "dict2={\"día\":23,\"mes\":9,\"año\":2004,}\n",
        "print(dict1.values())\n",
        "print(dict2.values())"
      ],
      "metadata": {
        "colab": {
          "base_uri": "https://localhost:8080/"
        },
        "id": "tK0lY-nnpDv2",
        "outputId": "cdec3478-09dd-415d-c6c9-1a49345720ff"
      },
      "execution_count": 35,
      "outputs": [
        {
          "output_type": "stream",
          "name": "stdout",
          "text": [
            "dict_values(['Juan', 'Acevedo'])\n",
            "dict_values([23, 9, 2004])\n"
          ]
        }
      ]
    },
    {
      "cell_type": "code",
      "source": [
        "#items\n",
        "dict1={\"nombre\":\"Juan\",\"apellido\":\"Acevedo\"}\n",
        "dict2={\"día\":23,\"mes\":9,\"año\":2004,}\n",
        "dict1.items()\n",
        "print(dict1)\n",
        "dict2.items()\n",
        "print(dict2)"
      ],
      "metadata": {
        "colab": {
          "base_uri": "https://localhost:8080/"
        },
        "id": "ojAy7uVZpKJV",
        "outputId": "ace8430d-c2fb-47a0-c5a1-6f97c00a687e"
      },
      "execution_count": 36,
      "outputs": [
        {
          "output_type": "stream",
          "name": "stdout",
          "text": [
            "{'nombre': 'Juan', 'apellido': 'Acevedo'}\n",
            "{'día': 23, 'mes': 9, 'año': 2004}\n"
          ]
        }
      ]
    },
    {
      "cell_type": "code",
      "source": [
        "#pop\n",
        "dict1={\"nombre\":\"Juan\",\"apellido\":\"Acevedo\"}\n",
        "dict2={\"día\":23,\"mes\":9,\"año\":2004,}\n",
        "dict1.pop(\"nombre\")\n",
        "print(dict1)\n",
        "dict2.pop(\"mes\")\n",
        "print(dict2)"
      ],
      "metadata": {
        "colab": {
          "base_uri": "https://localhost:8080/"
        },
        "id": "pSLFpnKrpY19",
        "outputId": "c4e00b1d-4bc7-48de-a753-09159c6b3c38"
      },
      "execution_count": 44,
      "outputs": [
        {
          "output_type": "stream",
          "name": "stdout",
          "text": [
            "{'apellido': 'Acevedo'}\n",
            "{'día': 23, 'año': 2004}\n"
          ]
        }
      ]
    },
    {
      "cell_type": "code",
      "source": [
        "#clear\n",
        "dict1={\"nombre\":\"Juan\",\"apellido\":\"Acevedo\"}\n",
        "dict2={\"día\":23,\"mes\":9,\"año\":2004,}\n",
        "dict1.clear()\n",
        "print(dict1)\n",
        "dict2.clear()\n",
        "print(dict2)"
      ],
      "metadata": {
        "colab": {
          "base_uri": "https://localhost:8080/"
        },
        "id": "4suJV60lp3Q1",
        "outputId": "5925dbc6-25f6-4398-ed63-98dadac4fa5a"
      },
      "execution_count": 45,
      "outputs": [
        {
          "output_type": "stream",
          "name": "stdout",
          "text": [
            "{}\n",
            "{}\n"
          ]
        }
      ]
    },
    {
      "cell_type": "code",
      "source": [
        "#update\n",
        "dict1={\"nombre\":\"Juan\",\"apellido\":\"Acevedo\"}\n",
        "dict2={\"día\":23,\"mes\":9,\"año\":2004,}\n",
        "dict1.update(dict2)\n",
        "print(dict1)"
      ],
      "metadata": {
        "colab": {
          "base_uri": "https://localhost:8080/"
        },
        "id": "KVTryxepp8Pb",
        "outputId": "4d06ce4e-9fbc-4eb8-bf4f-bd32c7009b05"
      },
      "execution_count": 46,
      "outputs": [
        {
          "output_type": "stream",
          "name": "stdout",
          "text": [
            "{'nombre': 'Juan', 'apellido': 'Acevedo', 'día': 23, 'mes': 9, 'año': 2004}\n"
          ]
        }
      ]
    },
    {
      "cell_type": "code",
      "source": [
        "#popitem\n",
        "dict1={\"nombre\":\"Juan\",\"apellido\":\"Acevedo\"}\n",
        "dict2={\"día\":23,\"mes\":9,\"año\":2004,}\n",
        "dict1.popitem()\n",
        "print(dict1)\n",
        "dict2.popitem()\n",
        "print(dict2)"
      ],
      "metadata": {
        "colab": {
          "base_uri": "https://localhost:8080/"
        },
        "id": "se_iRciBqBR7",
        "outputId": "021dc03b-7814-4786-af1f-8f0006a4d659"
      },
      "execution_count": 47,
      "outputs": [
        {
          "output_type": "stream",
          "name": "stdout",
          "text": [
            "{'nombre': 'Juan'}\n",
            "{'día': 23, 'mes': 9}\n"
          ]
        }
      ]
    },
    {
      "cell_type": "code",
      "source": [
        "#copy\n",
        "dict1={\"nombre\":\"Juan\",\"apellido\":\"Acevedo\"}\n",
        "dict2={\"día\":23,\"mes\":9,\"año\":2004,}\n",
        "dict1.copy()\n",
        "print(dict1)\n",
        "dict2.copy()\n",
        "print(dict2)"
      ],
      "metadata": {
        "colab": {
          "base_uri": "https://localhost:8080/"
        },
        "id": "boA1SPt0qlOl",
        "outputId": "ba5dbba3-7777-4a91-9d42-6d2f99ccd908"
      },
      "execution_count": 48,
      "outputs": [
        {
          "output_type": "stream",
          "name": "stdout",
          "text": [
            "{'nombre': 'Juan', 'apellido': 'Acevedo'}\n",
            "{'día': 23, 'mes': 9, 'año': 2004}\n"
          ]
        }
      ]
    },
    {
      "cell_type": "code",
      "source": [
        "#fromkeys\n",
        "dict1={\"nombre\":\"Juan\",\"apellido\":\"Acevedo\"}\n",
        "dict2={\"día\":23,\"mes\":9,\"año\":2004,}\n",
        "dict1.fromkeys(\"nombre\")\n",
        "print(dict1)\n",
        "dict2.fromkeys(\"mes\")\n",
        "print(dict2)"
      ],
      "metadata": {
        "colab": {
          "base_uri": "https://localhost:8080/"
        },
        "id": "9qIO4F_VqtWf",
        "outputId": "8c4d32a0-34d1-45a1-befe-fc3b1a8b7db3"
      },
      "execution_count": 49,
      "outputs": [
        {
          "output_type": "stream",
          "name": "stdout",
          "text": [
            "{'nombre': 'Juan', 'apellido': 'Acevedo'}\n",
            "{'día': 23, 'mes': 9, 'año': 2004}\n"
          ]
        }
      ]
    },
    {
      "cell_type": "markdown",
      "source": [
        "#Ejercicios de clase (listas)"
      ],
      "metadata": {
        "id": "gFvenOaDrtyg"
      }
    },
    {
      "cell_type": "markdown",
      "source": [
        "#Ejercicio 1\n",
        "Dada la lista: list1 = [100, 200, 300, 400, 500], se desea que imprima [500, 400, 300, 200, 100]"
      ],
      "metadata": {
        "id": "aApdaOAOr-uR"
      }
    },
    {
      "cell_type": "code",
      "source": [
        "list1= [100, 200, 300, 400, 500]\n",
        "list1.reverse()\n",
        "print(list1)"
      ],
      "metadata": {
        "colab": {
          "base_uri": "https://localhost:8080/"
        },
        "id": "SVi7vy7ur4da",
        "outputId": "450ec9a0-2a10-47e7-e65d-73b4841a764c"
      },
      "execution_count": 50,
      "outputs": [
        {
          "output_type": "stream",
          "name": "stdout",
          "text": [
            "[500, 400, 300, 200, 100]\n"
          ]
        }
      ]
    },
    {
      "cell_type": "markdown",
      "source": [
        "#Ejercicio 2\n",
        "Escriba un programa que unas dos listas, de tal forma que\n",
        "lista1 = [\"M\", \"nom\", \"e\", \"e\"]\n",
        "lista2 = [\"i\", \"bre\", \"s\", “quis\"]\n",
        "da como resultado ['Mi', 'nombre', 'es', 'equis'] (reemplazar el nombre por el del estudiante)"
      ],
      "metadata": {
        "id": "RuXU-PYDsRMp"
      }
    },
    {
      "cell_type": "code",
      "source": [
        "lista1 = [\"M\", \"nom\", \"e\", \"e\"]\n",
        "lista2 = [\"i\", \"bre\", \"s\", \"Juan\"]\n",
        "lista3 = []\n",
        "for i in range(len(lista1)):\n",
        "  lista3.append(lista1[i] + lista2[i])\n",
        "print(lista3)\n"
      ],
      "metadata": {
        "colab": {
          "base_uri": "https://localhost:8080/"
        },
        "id": "NSSbFBEis5Yi",
        "outputId": "48677470-6c12-44d2-cf79-974f7b1de57d"
      },
      "execution_count": 57,
      "outputs": [
        {
          "output_type": "stream",
          "name": "stdout",
          "text": [
            "['Mi', 'nombre', 'es', 'eJuan']\n"
          ]
        }
      ]
    },
    {
      "cell_type": "markdown",
      "source": [
        "#Ejercicio 3\n",
        "Desarrolle un programa que calcule el doble de cada uno de los elementos de una lista. Ejemplo: si la lista es [1, 2, 3, 4, 5, 6, 7] da como resultado [2, 4, 6, 8, 10, 12, 14]."
      ],
      "metadata": {
        "id": "_Rx3RkKOtF30"
      }
    },
    {
      "cell_type": "code",
      "source": [
        "lista1 = [1, 2, 3, 4, 5, 6, 7]\n",
        "lista2 = []\n",
        "for i in range(len(lista1)):\n",
        "  lista2.append(lista1[i] * 2)\n",
        "print(lista2)"
      ],
      "metadata": {
        "colab": {
          "base_uri": "https://localhost:8080/"
        },
        "id": "F3AFEDExtPM5",
        "outputId": "b451eb0d-28b6-44f7-a0d7-feaddaf60088"
      },
      "execution_count": 58,
      "outputs": [
        {
          "output_type": "stream",
          "name": "stdout",
          "text": [
            "[2, 4, 6, 8, 10, 12, 14]\n"
          ]
        }
      ]
    },
    {
      "cell_type": "markdown",
      "source": [
        "#Ejercicio 4\n",
        "Dadas dos listas\n",
        "a. lista1 = [\"Hola \", \"toma \"]\n",
        "b. lista2 = [\"Querido\", \"Señor\"]\n",
        "desarrollar un programe que de como resultado [“Hola Querido”, “Hola Señor”,'toma Querido”, 'toma Señor'"
      ],
      "metadata": {
        "id": "52tnRZNttm_U"
      }
    },
    {
      "cell_type": "code",
      "source": [
        "lista1 = [\"Hola \", \"toma \"]\n",
        "lista2 = [\"Querido\", \"Señor\"]\n",
        "lista3 = []\n",
        "for i in range(len(lista1)):\n",
        "  for j in range(len(lista2)):\n",
        "    lista3.append(lista1[i] + lista2[j])\n",
        "print(lista3)"
      ],
      "metadata": {
        "colab": {
          "base_uri": "https://localhost:8080/"
        },
        "id": "2oDSCQzstlj2",
        "outputId": "0dbcc8fe-0a40-430f-d434-1c76a9c80213"
      },
      "execution_count": 59,
      "outputs": [
        {
          "output_type": "stream",
          "name": "stdout",
          "text": [
            "['Hola Querido', 'Hola Señor', 'toma Querido', 'toma Señor']\n"
          ]
        }
      ]
    },
    {
      "cell_type": "markdown",
      "source": [
        "#Ejercicio 5\n",
        "Dadas dos listas\n",
        "list1 = [10, 20, 30, 40]\n",
        "list2 = [100, 200, 300, 400]\n",
        "se desea construir un programa que imprima\n",
        "10 400\n",
        "20 300\n",
        "30 200\n",
        "40 100"
      ],
      "metadata": {
        "id": "Hlt4zqEbt9jK"
      }
    },
    {
      "cell_type": "code",
      "source": [
        "list1 = [10, 20, 30, 40]\n",
        "list2 = [100, 200, 300, 400]\n",
        "list2.reverse()\n",
        "for i in range(len(list1)):\n",
        "  print(list1[i], list2[i])"
      ],
      "metadata": {
        "colab": {
          "base_uri": "https://localhost:8080/"
        },
        "id": "raj-iR2St8IB",
        "outputId": "6d859ab3-3618-41a7-8b06-3a7f1c60e6cb"
      },
      "execution_count": 60,
      "outputs": [
        {
          "output_type": "stream",
          "name": "stdout",
          "text": [
            "10 400\n",
            "20 300\n",
            "30 200\n",
            "40 100\n"
          ]
        }
      ]
    },
    {
      "cell_type": "markdown",
      "source": [
        "#Ejercicio 6\n",
        "Dada la lista [\"Mike\", \"\", \"Emma\", \"Kelly\", \"\", \"Brad\"] se desea un programa que elimine el elemento vacío"
      ],
      "metadata": {
        "id": "shR6h-ZSuVsA"
      }
    },
    {
      "cell_type": "code",
      "source": [
        "lista= [\"Mike\", \"\", \"Emma\", \"Kelly\", \"\", \"Brad\"]\n",
        "for i in lista:\n",
        "  if i == \"\":\n",
        "    lista.remove(i)\n",
        "print(lista)"
      ],
      "metadata": {
        "colab": {
          "base_uri": "https://localhost:8080/"
        },
        "id": "lX_7YR8muUue",
        "outputId": "087fa7ae-3cf7-4309-e6e6-fe9d71b2f4a0"
      },
      "execution_count": 61,
      "outputs": [
        {
          "output_type": "stream",
          "name": "stdout",
          "text": [
            "['Mike', 'Emma', 'Kelly', 'Brad']\n"
          ]
        }
      ]
    },
    {
      "cell_type": "markdown",
      "source": [
        "#Ejercicio 7\n",
        "Dada la lista [10, 20, [300, 400, [5000, 6000], 500], 30, 40] se desea un programa que genere el siguiente resultado: [10, 20, [300, 400, [5000, 6000, 7000], 500], 30, 40]"
      ],
      "metadata": {
        "id": "McwYTnuouiQV"
      }
    },
    {
      "cell_type": "code",
      "source": [
        "lista= [10, 20, [300, 400, [5000, 6000], 500], 30, 40]\n",
        "lista[2][2].append(7000)\n",
        "print(lista)"
      ],
      "metadata": {
        "colab": {
          "base_uri": "https://localhost:8080/"
        },
        "id": "x91gLtvxupHG",
        "outputId": "ff3e1a09-8ed8-4427-e68d-702f1f3b9754"
      },
      "execution_count": 62,
      "outputs": [
        {
          "output_type": "stream",
          "name": "stdout",
          "text": [
            "[10, 20, [300, 400, [5000, 6000, 7000], 500], 30, 40]\n"
          ]
        }
      ]
    },
    {
      "cell_type": "markdown",
      "source": [
        "#Ejercicio 8\n",
        "Dada dos listas\n",
        "lista1= [\"a\", \"b\", [\"c\", [\"d\", \"e\", [\"f\", \"g\"], \"k\"], \"l\"], \"m\", \"n\"]\n",
        "lista 2= [\"h\", \"i\", \"j\"]\n",
        "se desea un programa que imprima lo siguiente:\n",
        "['a', 'b', ['c', ['d', 'e', ['f', 'g', 'h', 'i', 'j'], 'k'], 'l'], 'm', 'n']"
      ],
      "metadata": {
        "id": "mV9MNzusu0FA"
      }
    },
    {
      "cell_type": "code",
      "source": [
        "lista1 = [\"a\", \"b\", [\"c\", [\"d\", \"e\", [\"f\", \"g\"], \"k\"], \"l\"], \"m\", \"n\"]\n",
        "lista2 = [\"h\", \"i\", \"j\"]\n",
        "lista1[2][1][2].extend(lista2)\n",
        "print(lista1)"
      ],
      "metadata": {
        "colab": {
          "base_uri": "https://localhost:8080/"
        },
        "id": "f28PjUW1uzrE",
        "outputId": "5be3d4bc-8b66-43b6-a256-ee6a53b01109"
      },
      "execution_count": 63,
      "outputs": [
        {
          "output_type": "stream",
          "name": "stdout",
          "text": [
            "['a', 'b', ['c', ['d', 'e', ['f', 'g', 'h', 'i', 'j'], 'k'], 'l'], 'm', 'n']\n"
          ]
        }
      ]
    },
    {
      "cell_type": "markdown",
      "source": [
        "#Ejercicio 9\n",
        "Dada la lista [5, 10, 15, 20, 25, 50, 20] se desea un programa que reemplace el\n",
        "número de la mitad por 200.\n"
      ],
      "metadata": {
        "id": "MmNWMTtavI4h"
      }
    },
    {
      "cell_type": "code",
      "source": [
        "lista= [5, 10, 15, 20, 25, 50, 20]\n",
        "lista[lista.index(20)] = 200\n",
        "print(lista)"
      ],
      "metadata": {
        "colab": {
          "base_uri": "https://localhost:8080/"
        },
        "id": "D9_YEqLcvIeg",
        "outputId": "af29a363-b3fc-47aa-b74e-b0e2e4e9949d"
      },
      "execution_count": 64,
      "outputs": [
        {
          "output_type": "stream",
          "name": "stdout",
          "text": [
            "[5, 10, 15, 200, 25, 50, 20]\n"
          ]
        }
      ]
    },
    {
      "cell_type": "markdown",
      "source": [
        "#Ejercicio 10\n",
        "Construya un programa que elimine de una lista todos los duplicados. Ejemplo, si se tiene una lista [5, 20, 15, 20, 25, 50, 20] imprime [5, 15, 25, 50]"
      ],
      "metadata": {
        "id": "dHaCp2bFv298"
      }
    },
    {
      "cell_type": "code",
      "source": [
        "lista= [5, 20, 15, 20, 25, 50, 20]\n",
        "lista2= []\n",
        "for i in lista:\n",
        "  if i not in lista2:\n",
        "    lista2.append(i)\n",
        "print(lista2)\n"
      ],
      "metadata": {
        "colab": {
          "base_uri": "https://localhost:8080/"
        },
        "id": "CgdWuueqv9yg",
        "outputId": "05efb158-f75f-4e21-e8fc-972ef8463c12"
      },
      "execution_count": 87,
      "outputs": [
        {
          "output_type": "stream",
          "name": "stdout",
          "text": [
            "[5, 20, 15, 25, 50]\n"
          ]
        }
      ]
    },
    {
      "cell_type": "markdown",
      "source": [
        "#Ejercicio 11\n",
        "Construya una programa que cuente cuántas veces se repitan los elementos de una\n",
        "lista. Ejemplo, si se tiene una lista [5, 20, 15, 20, 25, 50, 20] imprima:\n",
        "5 = 1\n",
        "20 = 3\n",
        "15 = 1\n",
        "25= 1\n",
        "50 = 1"
      ],
      "metadata": {
        "id": "Uur56nAoxEwv"
      }
    },
    {
      "cell_type": "code",
      "source": [
        "lista= [5, 20, 15, 20, 25, 50, 20]\n",
        "lista2= []\n",
        "for i in lista:\n",
        "  if i not in lista2:\n",
        "    lista2.append(i)\n",
        "for i in lista2:\n",
        "  print(i, \"=\", lista.count(i))"
      ],
      "metadata": {
        "colab": {
          "base_uri": "https://localhost:8080/"
        },
        "id": "CqMTV-c_xK0A",
        "outputId": "2fad3ae5-458c-42af-e840-ddc156670235"
      },
      "execution_count": 82,
      "outputs": [
        {
          "output_type": "stream",
          "name": "stdout",
          "text": [
            "5 = 1\n",
            "20 = 3\n",
            "15 = 1\n",
            "25 = 1\n",
            "50 = 1\n"
          ]
        }
      ]
    },
    {
      "cell_type": "markdown",
      "source": [
        "#Ejercicio 12\n",
        "Construya un programa que ordene los elementos de una lista de menor a mayor o\n",
        "viceversa"
      ],
      "metadata": {
        "id": "PYWU56g-xTCi"
      }
    },
    {
      "cell_type": "code",
      "source": [
        "lista= [40, 10, 30, 20, 60, 50, 100]\n",
        "lista.sort()\n",
        "print(lista)"
      ],
      "metadata": {
        "colab": {
          "base_uri": "https://localhost:8080/"
        },
        "id": "Rep2btifxXc9",
        "outputId": "d52dddbd-44e8-4bbe-a03b-2db838e0b896"
      },
      "execution_count": 83,
      "outputs": [
        {
          "output_type": "stream",
          "name": "stdout",
          "text": [
            "[10, 20, 30, 40, 50, 60, 100]\n"
          ]
        }
      ]
    },
    {
      "cell_type": "markdown",
      "source": [
        "#Ejercicio 13\n",
        "Escriba un programa en Python que le permita al usuario obtener de una lista:\n",
        "a. La suma de todos sus elementos\n",
        "b. La multiplicación de todos sus elementos\n",
        "c. El número mayor\n",
        "d. El número menor"
      ],
      "metadata": {
        "id": "MOW_NtmaxmF6"
      }
    },
    {
      "cell_type": "code",
      "source": [
        "lista= [40, 10, 30, 20, 60, 50, 100]\n",
        "suma= 0\n",
        "multiplicacion= 1\n",
        "for i in lista:\n",
        "  suma += i\n",
        "  multiplicacion *= i\n",
        "print(\"La suma de todos sus elementos es:\", suma)\n",
        "print(\"La multiplicación de todos sus elementos es:\", multiplicacion)\n",
        "print(\"El número mayor es:\", max(lista))\n",
        "print(\"El número menor es:\", min(lista))"
      ],
      "metadata": {
        "colab": {
          "base_uri": "https://localhost:8080/"
        },
        "id": "mQBb1HfwxqOX",
        "outputId": "96a7a288-cdb8-4962-ada2-db7981548c87"
      },
      "execution_count": 84,
      "outputs": [
        {
          "output_type": "stream",
          "name": "stdout",
          "text": [
            "La suma de todos sus elementos es: 310\n",
            "La multiplicación de todos sus elementos es: 72000000000\n",
            "El número mayor es: 100\n",
            "El número menor es: 10\n"
          ]
        }
      ]
    },
    {
      "cell_type": "markdown",
      "source": [
        "#Ejercicio 14\n",
        "Escriba un programa que calcule la diferencia entre dos listas."
      ],
      "metadata": {
        "id": "hfhw5unJx8LC"
      }
    },
    {
      "cell_type": "code",
      "source": [
        "lista1= [1,2,3,4]\n",
        "lista2= [1,2]\n",
        "lista3= []\n",
        "for i in lista1:\n",
        "  if i not in lista2:\n",
        "    lista3.append(i)\n",
        "print(lista3)"
      ],
      "metadata": {
        "colab": {
          "base_uri": "https://localhost:8080/"
        },
        "id": "_nrn1Kxjx_8q",
        "outputId": "a51c7fee-4922-4971-ca0d-12040bb09da4"
      },
      "execution_count": 85,
      "outputs": [
        {
          "output_type": "stream",
          "name": "stdout",
          "text": [
            "[3, 4]\n"
          ]
        }
      ]
    },
    {
      "cell_type": "markdown",
      "source": [
        "#Ejercicio 15\n",
        "Escriba un programa que permita identificar el segundo y tercer elemento menor de una lista de 10 elementos."
      ],
      "metadata": {
        "id": "MEoPWyq3ydzF"
      }
    },
    {
      "cell_type": "code",
      "source": [],
      "metadata": {
        "id": "JAI8wia8yvlU"
      },
      "execution_count": null,
      "outputs": []
    }
  ]
}