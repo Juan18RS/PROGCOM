{
  "nbformat": 4,
  "nbformat_minor": 0,
  "metadata": {
    "colab": {
      "provenance": []
    },
    "kernelspec": {
      "name": "python3",
      "display_name": "Python 3"
    },
    "language_info": {
      "name": "python"
    }
  },
  "cells": [
    {
      "cell_type": "markdown",
      "source": [
        "#Clase a preparar\n",
        "1. Diapositivas (explicación general sobre abstracción)\n",
        "2. Video ejemplo del tema (un ejemplo sacado de internet)\n",
        "3. Ejercicio a preparar (gerencia de un equipo de futbol)"
      ],
      "metadata": {
        "id": "-Q0ulD70WYFE"
      }
    },
    {
      "cell_type": "markdown",
      "source": [
        "#Programación orientada a objetos\n",
        "Crear un programa de dirección tecnica de futbol donde tenga el nombre del jugador, talla, peso, edad, rol en el equipo. Utilizar abstracción en este programa"
      ],
      "metadata": {
        "id": "lWW4beWTVXBd"
      }
    },
    {
      "cell_type": "code",
      "source": [
        "#Definición clase del juagdor\n",
        "class Jugador:\n",
        "  \"\"\"\n",
        "  Representa a un jugador de fútbol.\n",
        "  \"\"\"\n",
        "\n",
        "  def __init__(self, nombre, talla, peso, edad, rol):\n",
        "    \"\"\"\n",
        "    Inicializa un nuevo jugador.\n",
        "\n",
        "    Args:\n",
        "      nombre: El nombre del jugador.\n",
        "      talla: La talla del jugador (en cm).\n",
        "      peso: El peso del jugador (en kg).\n",
        "      edad: La edad del jugador.\n",
        "      rol: El rol del jugador en el equipo (e.g., delantero, defensa).\n",
        "\n",
        "    \"\"\"\n",
        "    self.nombre = nombre\n",
        "    self.talla = talla\n",
        "    self.peso = peso\n",
        "    self.edad = edad\n",
        "    self.rol = rol\n",
        "\n",
        "  def __str__(self):\n",
        "    \"\"\"\n",
        "    Devuelve una representación en cadena del jugador.\n",
        "    \"\"\"\n",
        "    return f\"Jugador: {self.nombre}\\nTalla: {self.talla} cm\\nPeso: {self.peso} kg\\nEdad: {self.edad}\\nRol: {self.rol}\"\n",
        "\n",
        "\n",
        "class Equipo:\n",
        "  \"\"\"\n",
        "  Representa un equipo de fútbol.\n",
        "  \"\"\"\n",
        "\n",
        "  def __init__(self, nombre):\n",
        "    \"\"\"\n",
        "    Inicializa un nuevo equipo.\n",
        "\n",
        "    Args:\n",
        "      nombre: El nombre del equipo.\n",
        "    \"\"\"\n",
        "    self.nombre = nombre\n",
        "    self.jugadores = []\n",
        "\n",
        "  def agregar_jugador(self, jugador):\n",
        "    \"\"\"\n",
        "    Agrega un jugador al equipo.\n",
        "\n",
        "    Args:\n",
        "      jugador: El jugador a agregar.\n",
        "    \"\"\"\n",
        "    self.jugadores.append(jugador)\n",
        "\n",
        "  def mostrar_jugadores(self):\n",
        "    \"\"\"\n",
        "    Muestra la lista de jugadores del equipo.\n",
        "    \"\"\"\n",
        "    print(f\"Jugadores del equipo {self.nombre}:\")\n",
        "    for jugador in self.jugadores:\n",
        "      print(jugador)\n",
        "      print(\"-\" * 20)\n",
        "\n",
        "\n",
        "# Ejemplo de uso\n",
        "equipo1 = Equipo(\"Las bestias\")\n",
        "\n",
        "jugador1 = Jugador(\"Juan David\", 170, 65, 35, \"Lateral\")\n",
        "jugador2 = Jugador(\"Juan Jose\", 187, 85, 38, \"Delantero\")\n",
        "jugador3 = Jugador(\"Kevin\", 187, 68, 31, \"Arquero\")\n",
        "jugador4 = Jugador(\"Juan Felipe\", 175, 73, 22, \"Lateral\")\n",
        "jugador5 = Jugador(\"Michael\", 165, 60, 26, \"Cierre\")\n",
        "\n",
        "equipo1.agregar_jugador(jugador1)\n",
        "equipo1.agregar_jugador(jugador2)\n",
        "equipo1.agregar_jugador(jugador3)\n",
        "equipo1.agregar_jugador(jugador4)\n",
        "equipo1.agregar_jugador(jugador5)\n",
        "\n",
        "equipo1.mostrar_jugadores()\n"
      ],
      "metadata": {
        "colab": {
          "base_uri": "https://localhost:8080/"
        },
        "id": "7unDeTZ6b2ln",
        "outputId": "f21735c4-7b66-47fd-d6be-305283a641b3"
      },
      "execution_count": 21,
      "outputs": [
        {
          "output_type": "stream",
          "name": "stdout",
          "text": [
            "Jugadores del equipo Las bestias:\n",
            "Jugador: Juan David\n",
            "Talla: 170 cm\n",
            "Peso: 65 kg\n",
            "Edad: 35\n",
            "Rol: Lateral\n",
            "--------------------\n",
            "Jugador: Juan Jose\n",
            "Talla: 187 cm\n",
            "Peso: 85 kg\n",
            "Edad: 38\n",
            "Rol: Delantero\n",
            "--------------------\n",
            "Jugador: Kevin\n",
            "Talla: 187 cm\n",
            "Peso: 68 kg\n",
            "Edad: 31\n",
            "Rol: Arquero\n",
            "--------------------\n",
            "Jugador: Juan Felipe\n",
            "Talla: 175 cm\n",
            "Peso: 73 kg\n",
            "Edad: 22\n",
            "Rol: Lateral\n",
            "--------------------\n",
            "Jugador: Michael\n",
            "Talla: 165 cm\n",
            "Peso: 60 kg\n",
            "Edad: 26\n",
            "Rol: Cierre\n",
            "--------------------\n"
          ]
        }
      ]
    }
  ]
}