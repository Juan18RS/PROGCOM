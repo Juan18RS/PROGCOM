{
  "nbformat": 4,
  "nbformat_minor": 0,
  "metadata": {
    "colab": {
      "provenance": []
    },
    "kernelspec": {
      "name": "python3",
      "display_name": "Python 3"
    },
    "language_info": {
      "name": "python"
    }
  },
  "cells": [
    {
      "cell_type": "markdown",
      "source": [
        "#Ejercicio clase (1)\n",
        "Elaborar un algoritmo que permita leer una letra e imprima si es vocal o si es consonante."
      ],
      "metadata": {
        "id": "GjLu4nHytbmN"
      }
    },
    {
      "cell_type": "code",
      "execution_count": null,
      "metadata": {
        "id": "MrIXICuzikw6",
        "colab": {
          "base_uri": "https://localhost:8080/"
        },
        "outputId": "8e3f3a89-35ff-4c10-dfca-945967feb66f"
      },
      "outputs": [
        {
          "output_type": "stream",
          "name": "stdout",
          "text": [
            "Ingrese una letra: A\n",
            "La letra a es una vocal\n"
          ]
        }
      ],
      "source": [
        "#1. Operador terniario.\n",
        "a= input(\"Ingrese una letra: \").lower()\n",
        "resultado=(f\"es una vocal\" if a in \"aeiou\" else \"es una consonante\")\n",
        "print(f\"La letra {a} {resultado}\")"
      ]
    },
    {
      "cell_type": "code",
      "source": [
        "#1. Usando match\n",
        "a= input(\"Ingrese una letra: \").lower()\n",
        "match a:\n",
        "  case \"a\":\n",
        "    print(\"Es una vocal\")\n",
        "  case \"e\":\n",
        "    print(\"Es una vocal\")\n",
        "  case \"i\":\n",
        "    print (\"Es una vocal\")\n",
        "  case \"o\":\n",
        "    print(\"Es una vocal\")\n",
        "  case \"u\":\n",
        "    print(\"Es una vocal\")\n",
        "  case _:\n",
        "    print(\"Es una consonante\")"
      ],
      "metadata": {
        "colab": {
          "base_uri": "https://localhost:8080/"
        },
        "id": "QNjNDH6UuAJq",
        "outputId": "7bc28bdf-97df-4054-c0a5-600d41e0c342"
      },
      "execution_count": null,
      "outputs": [
        {
          "output_type": "stream",
          "name": "stdout",
          "text": [
            "Ingrese una letra: C\n",
            "Es una consonante\n"
          ]
        }
      ]
    },
    {
      "cell_type": "code",
      "source": [
        "#1. Usando elif\n",
        "a= input(\"Ingrese una letra: \")\n",
        "if a in \"aeiou\":\n",
        "  print(\"Es una vocal\")\n",
        "elif a in \"AEIOU\":\n",
        "  print(\"Es una vocal\")\n",
        "else:\n",
        "  print(\"Es una consonante\")"
      ],
      "metadata": {
        "colab": {
          "base_uri": "https://localhost:8080/"
        },
        "id": "D0O16vYAuC-C",
        "outputId": "ec7c2506-a813-41c7-aac2-c6d36fc05918"
      },
      "execution_count": null,
      "outputs": [
        {
          "output_type": "stream",
          "name": "stdout",
          "text": [
            "Ingrese una letra: O\n",
            "Es una vocal\n"
          ]
        }
      ]
    },
    {
      "cell_type": "markdown",
      "source": [
        "#Ejercicio clase (2)\n",
        "Un sistema de ecuaciones lineales: ax+by=c , dx+ey=f se puede resolver con las fórmulas X=(ce-bf)/(ae-bd) Y=(af-cd)/(ae-bd) si (ae-bd)<>0 elaborar un algoritmo que lea los coeficientes a,b,c,d,e y f y que calcule e imprima los valores de X y Y. Si (ae-bd)=0 imprima un mensaje que indique que no tiene solución"
      ],
      "metadata": {
        "id": "9pOb2NndtlW9"
      }
    },
    {
      "cell_type": "code",
      "source": [
        "#2. Try y except\n",
        "a= input(\"Ingrese el valor asignado para a: \")\n",
        "b= input(\"Ingrese el valor asignado para b: \")\n",
        "c= input(\"Ingrese el valor asignado para c: \")\n",
        "d= input(\"Ingrese el valor asignado para d: \")\n",
        "e= input(\"Ingrese el valor asignado para e: \")\n",
        "f= input(\"Ingrese el valor asignado para f: \")\n",
        "a= int(a)\n",
        "b= int(b)\n",
        "c= int(c)\n",
        "d= int(d)\n",
        "e= int(e)\n",
        "f= int(f)\n",
        "try:\n",
        "  X= (c*e-b*f)/(a*e-b*d)\n",
        "  Y= (a*f-c*d)/(a*e-b*d)\n",
        "  print(f\"El valor de X es: {X}\")\n",
        "  print(f\"El valor de Y es: {Y}\")\n",
        "except ZeroDivisionError:\n",
        "  print(\"No se puede hallar el valor de X y Y, no tiene solución\")"
      ],
      "metadata": {
        "id": "61veDzYTit3W",
        "colab": {
          "base_uri": "https://localhost:8080/"
        },
        "outputId": "4cb5336b-f6ad-435b-fbbc-1820caec9d7b"
      },
      "execution_count": null,
      "outputs": [
        {
          "output_type": "stream",
          "name": "stdout",
          "text": [
            "Ingrese el valor asignado para a: 1\n",
            "Ingrese el valor asignado para b: 1\n",
            "Ingrese el valor asignado para c: 1\n",
            "Ingrese el valor asignado para d: 0\n",
            "Ingrese el valor asignado para e: 0\n",
            "Ingrese el valor asignado para f: 1\n",
            "No se puede hallar el valor de X y Y, no tiene solución\n"
          ]
        }
      ]
    },
    {
      "cell_type": "markdown",
      "source": [
        "#Ejercicio clase (3)\n",
        "Elaborar un algoritmo que lea un número de 1 al 12 e imprima que mes corresponde."
      ],
      "metadata": {
        "id": "DVh0BYQtt3mV"
      }
    },
    {
      "cell_type": "code",
      "source": [
        "#3. Operador terniario\n",
        "b= input(\"Ingrese un número del 1 al 12: \")\n",
        "a= int(b)\n",
        "resultado=(\"El número pertenece al mes de Enero\" if a==1 else \"El número pertenece al mes de Febrero\" if a==2 else \"El número pertenece al mes de Marzo\" if a==3 else \"El número pertenece al mes de Abril\" if a==4 else \"El número pertenece al mes de Mayo\" if a==5 else \"El número pertenece al mes de Junio\" if a==6 else \"El número pertenece al mes de Julio\" if a==7 else \"El número pertenece al mes de Agosto\" if a==8 else \"El número pertenece al mes de Septiembre\" if a==9 else \"El número pertenece al mes de Octubre\" if a==10 else \"El número pertenece al mes de Noviembre\" if a==11 else \"El número pertenece al mes de Diciembre\" if a==12 else \"El número no pertenece a un mes del año\")\n",
        "print(f\"{resultado}\")"
      ],
      "metadata": {
        "id": "nR-EUFCVjbWd",
        "colab": {
          "base_uri": "https://localhost:8080/"
        },
        "outputId": "e10c16f9-650b-4d76-8165-d5f89a3f64e7"
      },
      "execution_count": null,
      "outputs": [
        {
          "output_type": "stream",
          "name": "stdout",
          "text": [
            "Ingrese un número del 1 al 12: 10\n",
            "El número pertenece al mes de Octubre\n"
          ]
        }
      ]
    },
    {
      "cell_type": "code",
      "source": [
        "#3. Usando match\n",
        "c= input(\"Ingrese un número: \")\n",
        "a= int(c)\n",
        "match a:\n",
        "  case 1:\n",
        "    print(f\"El número {c} pertenece al mes de Enero\")\n",
        "  case 2:\n",
        "    print(f\"El número {c} pertenece al mes de Febrero\")\n",
        "  case 3:\n",
        "    print(f\"El número {c} pertenece al mes de Marzo\")\n",
        "  case 4:\n",
        "    print(f\"El número {c} pertenece al mes de Abril\")\n",
        "  case 5:\n",
        "    print(f\"El número {c} pertenece al mes de Mayo\")\n",
        "  case 6:\n",
        "    print(f\"El número {c} pertenece al mes de Junio\")\n",
        "  case 7:\n",
        "    print(f\"El número {c} pertenece al mes de Julio\")\n",
        "  case 8:\n",
        "    print(f\"El número {c} pertenece al mes de Agosto\")\n",
        "  case 9:\n",
        "    print(f\"El número {c} pertenece al mes de Septiembre\")\n",
        "  case 10:\n",
        "    print(f\"El número {c} pertenece al mes de Octubre\")\n",
        "  case 11:\n",
        "    print(f\"El número {c} pertenece al mes de Noviembre\")\n",
        "  case 12:\n",
        "    print(f\"El número {c} pertenece al mes de Diciembre\")\n",
        "  case _:\n",
        "    print(f\"El número {c} no pertenece a un mes del año\")"
      ],
      "metadata": {
        "colab": {
          "base_uri": "https://localhost:8080/"
        },
        "id": "AOGgJOV1t-3e",
        "outputId": "fcd0e23f-ef9a-4050-9cfa-b81a9aa5764d"
      },
      "execution_count": null,
      "outputs": [
        {
          "output_type": "stream",
          "name": "stdout",
          "text": [
            "Ingrese un número: 9\n",
            "El número 9 pertenece al mes de Septiembre\n"
          ]
        }
      ]
    },
    {
      "cell_type": "code",
      "source": [
        "#3. Usando elif\n",
        "c= input(\"Ingrese un número: \")\n",
        "a= int(c)\n",
        "if a==1:\n",
        "  print(f\"El número {c} pertenece al mes de Enero\")\n",
        "elif a==2:\n",
        "  print(f\"El número {c} pertenece al mes de Febrero\")\n",
        "elif a==3:\n",
        "  print(f\"El número {c} pertenece al mes de Marzo\")\n",
        "elif a==4:\n",
        "  print(f\"El número {c} pertenece al mes de Abril\")\n",
        "elif a==5:\n",
        "  print(f\"El número {c} pertenece al mes de Mayo\")\n",
        "elif a==6:\n",
        "  print(f\"El número {c} pertenece al mes de Junio\")\n",
        "elif a==7:\n",
        "  print(f\"El número {c} pertenece al mes de Julio\")\n",
        "elif a==8:\n",
        "  print(f\"El número {c} pertenece al mes de Agosto\")\n",
        "elif a==9:\n",
        "  print(f\"El número {c} pertenece al mes de Septiembre\")\n",
        "elif a==10:\n",
        "  print(f\"El número {c} pertenece al mes de Octubre\")\n",
        "elif a==11:\n",
        "  print(f\"El número {c} pertenece al mes de Noviembre\")\n",
        "elif a==12:\n",
        "  print(f\"El número {c} pertenece al mes de Diciembre\")\n",
        "else:\n",
        "  print(f\"El número {c} no pertenece a un mes del año\")"
      ],
      "metadata": {
        "colab": {
          "base_uri": "https://localhost:8080/"
        },
        "id": "1OdoIaXDuI0W",
        "outputId": "03fb46e3-a53f-4a97-a71d-ca988810d91f"
      },
      "execution_count": null,
      "outputs": [
        {
          "output_type": "stream",
          "name": "stdout",
          "text": [
            "Ingrese un número: 18\n",
            "El número 18 no pertenece a un mes del año\n"
          ]
        }
      ]
    },
    {
      "cell_type": "markdown",
      "source": [
        "#Ejercicio adelantado\n",
        "\n",
        "*   Elaborar un algoritmo que lea los datos de varios estudiantes (Nombre y tres calificaciones parciales) e imprime un reporte de calificaciones más la nota final. Para aprobar el curso, debe tener 70 o más en cada una de las tres calificaciones; la calificación final será el promedio. En caso de haber reprobado uno o más examenes, la calificación será NA (no acreditado).\n"
      ],
      "metadata": {
        "id": "tdjFL5OKtHki"
      }
    },
    {
      "cell_type": "code",
      "source": [
        "# Usando for\n",
        "A= int(input(\"Ingrese la cantidad de alumnos: \"))\n",
        "for i in range(A):\n",
        "  print(f\"Alumno {i+1}\")\n",
        "  B= input(\"Ingrese el nombre del alumno: \")\n",
        "  C= float(input(\"Ingrese la primera calificación: \"))\n",
        "  D= float(input(\"Ingrese la segunda calificación: \"))\n",
        "  E= float(input(\"Ingrese la tercera calificación: \"))\n",
        "  if C>=70 and D>=70 and E>=70:\n",
        "    F= (C+D+E)/3\n",
        "    print(f\"La nota final de {B} es: {F}\")\n",
        "  else:\n",
        "    print(f\"La nota final de {B} es NA (no acreditado)\")\n",
        "\n"
      ],
      "metadata": {
        "id": "dK1uy8amtOpE",
        "colab": {
          "base_uri": "https://localhost:8080/"
        },
        "outputId": "205420c2-db85-49b4-b921-978f58b0a6cc"
      },
      "execution_count": null,
      "outputs": [
        {
          "output_type": "stream",
          "name": "stdout",
          "text": [
            "Ingrese la cantidad de alumnos: 3\n",
            "Alumno 1\n",
            "Ingrese el nombre del alumno: Juan\n",
            "Ingrese la primera calificación: 80\n",
            "Ingrese la segunda calificación: 80\n",
            "Ingrese la tercera calificación: 40\n",
            "La nota final de Juan es NA (no acreditado)\n",
            "Alumno 2\n",
            "Ingrese el nombre del alumno: Messi\n",
            "Ingrese la primera calificación: 90\n",
            "Ingrese la segunda calificación: 90\n",
            "Ingrese la tercera calificación: 70\n",
            "La nota final de Messi es: 83.33333333333333\n",
            "Alumno 3\n",
            "Ingrese el nombre del alumno: Cristiano\n",
            "Ingrese la primera calificación: 85\n",
            "Ingrese la segunda calificación: 70\n",
            "Ingrese la tercera calificación: 75\n",
            "La nota final de Cristiano es: 76.66666666666667\n"
          ]
        }
      ]
    },
    {
      "cell_type": "code",
      "source": [
        "1# Usando while\n",
        "A= int(input(\"Ingrese la cantidad de alumnos: \"))\n",
        "i=0\n",
        "while i<A:\n",
        "  i+=1\n",
        "  print(f\"Alumno {i}\")\n",
        "  B= input(\"Ingrese el nombre del alumno: \")\n",
        "  C= float(input(\"Ingrese la primera calificación: \"))\n",
        "  D= float(input(\"Ingrese la segunda calificación: \"))\n",
        "  E= float(input(\"Ingrese la tercera calificación: \"))\n",
        "  if C>=70 and D>=70 and E>=70:\n",
        "    F= (C+D+E)/3\n",
        "    print(f\"La nota final de {B} es: {F}\")\n",
        "  else:\n",
        "    print(f\"La nota final de {B} es NA (no acreditado)\")"
      ],
      "metadata": {
        "colab": {
          "base_uri": "https://localhost:8080/"
        },
        "id": "dVAYFMIu_XZ8",
        "outputId": "1d5f7b88-984a-4191-92d0-acd67bbcd85a"
      },
      "execution_count": null,
      "outputs": [
        {
          "output_type": "stream",
          "name": "stdout",
          "text": [
            "Ingrese la cantidad de alumnos: 1\n",
            "Alumno 1\n",
            "Ingrese el nombre del alumno: Juan\n",
            "Ingrese la primera calificación: 95\n",
            "Ingrese la segunda calificación: 85\n",
            "Ingrese la tercera calificación: 100\n",
            "La nota final de Juan es: 93.33333333333333\n"
          ]
        }
      ]
    }
  ]
}