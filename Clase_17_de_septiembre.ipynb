{
  "nbformat": 4,
  "nbformat_minor": 0,
  "metadata": {
    "colab": {
      "provenance": []
    },
    "kernelspec": {
      "name": "python3",
      "display_name": "Python 3"
    },
    "language_info": {
      "name": "python"
    }
  },
  "cells": [
    {
      "cell_type": "markdown",
      "source": [
        "#Ejercicios de clase"
      ],
      "metadata": {
        "id": "tnMLaq7bUgT9"
      }
    },
    {
      "cell_type": "markdown",
      "source": [
        "#Ejercicio 1:\n",
        "Crear el programa que solicite el nombre y el código de un estudiante y que luego lo imprima,junto con el logo de la institución educativa perteneciente."
      ],
      "metadata": {
        "id": "LABZ_uc5aeq3"
      }
    },
    {
      "cell_type": "code",
      "source": [
        "b= input(\"Ingrese su nombre: \")\n",
        "a=int(input(\"Ingrese el código de la institución educativa: \"))\n",
        "print(\"Universidad Autónoma de Bucaramanga\")\n",
        "print(f\"Nombre del estudiante: {b}\")\n",
        "print(f\"Código de la institución: {a}\")"
      ],
      "metadata": {
        "colab": {
          "base_uri": "https://localhost:8080/"
        },
        "id": "eb9TIlXxbIEW",
        "outputId": "4700582a-d287-49b4-b0de-6b1b8f3e1a05"
      },
      "execution_count": 37,
      "outputs": [
        {
          "output_type": "stream",
          "name": "stdout",
          "text": [
            "Ingrese su nombre: juan\n",
            "Ingrese el código de la institución educativa: 54846\n",
            "Universidad Autónoma de Bucaramanga\n",
            "Nombre del estudiante: juan\n",
            "Código de la institución: 54846\n"
          ]
        }
      ]
    },
    {
      "cell_type": "markdown",
      "source": [
        "#Ejercicio 2\n",
        "Diseñe un algoritmo para calcular el volumen de un cono."
      ],
      "metadata": {
        "id": "HGchGi4bamyX"
      }
    },
    {
      "cell_type": "code",
      "source": [
        "a=float(input(\"Ingrese el radio del cono: \"))\n",
        "b=float(input(\"Ingrese la altura del cono: \"))\n",
        "vol=(1/3)*3.1416*a*a*b\n",
        "print(f\"El volumen del cono es: {vol}\")"
      ],
      "metadata": {
        "colab": {
          "base_uri": "https://localhost:8080/"
        },
        "id": "DV4rnT1gbv9V",
        "outputId": "332d0e96-a470-496d-8b56-ebe93204e82e"
      },
      "execution_count": 38,
      "outputs": [
        {
          "output_type": "stream",
          "name": "stdout",
          "text": [
            "Ingrese el radio del cono: 5\n",
            "Ingrese la altura del cono: 5\n",
            "El volumen del cono es: 130.9\n"
          ]
        }
      ]
    },
    {
      "cell_type": "markdown",
      "source": [
        "#Ejercicio 3\n",
        "Dado el conjunto de n servidores que apoyen una red de computadores, diseñe un programa que calcule el número total de conexiones entre los servidores que soportan la red."
      ],
      "metadata": {
        "id": "r5hteJhvarWW"
      }
    },
    {
      "cell_type": "code",
      "source": [
        "n=int(input(\"Ingrese el número de servidores: \"))\n",
        "c=(n*(n-1))/2\n",
        "print(f\"El número total de conexiones es: {c}\")"
      ],
      "metadata": {
        "colab": {
          "base_uri": "https://localhost:8080/"
        },
        "id": "nHSDqH_ZcCL-",
        "outputId": "63fef338-cb1d-4bb4-bb2a-926cfcfaa5a5"
      },
      "execution_count": 43,
      "outputs": [
        {
          "output_type": "stream",
          "name": "stdout",
          "text": [
            "Ingrese el número de servidores: 10\n",
            "El número total de conexiones es: 45.0\n"
          ]
        }
      ]
    },
    {
      "cell_type": "markdown",
      "source": [
        "#Ejercicio 4\n",
        "Diseñe un algoritmo que lea temperatura en grados centígrados y la convierta en grados Fahrenheity a grados Kelvin."
      ],
      "metadata": {
        "id": "L7c8mdOWazSO"
      }
    },
    {
      "cell_type": "code",
      "source": [
        "A= input(\"Ingrese la temperatura (en °C) \")\n",
        "B= float(A) + 273.15\n",
        "C= float(A)*1.8 + 32\n",
        "print(f\"La temperatura es {B}°K y {C}°F\")"
      ],
      "metadata": {
        "colab": {
          "base_uri": "https://localhost:8080/"
        },
        "id": "Dw4j-NP1cMWt",
        "outputId": "cc2a8af6-3b36-4bcf-9c23-054e6defd804"
      },
      "execution_count": 40,
      "outputs": [
        {
          "output_type": "stream",
          "name": "stdout",
          "text": [
            "Ingrese la temperatura (en °C) 25\n",
            "La temperatura es 298.15°K y 77.0°F\n"
          ]
        }
      ]
    },
    {
      "cell_type": "markdown",
      "source": [
        "#Ejercicio 5\n",
        "Diseñar el programa de un robot, que le permita contestar a ciertos requerimientos del usuario(se supone que el usuario sólo cuenta con una petición). Se debe programar los artículos y los precios de los mismos. El robot debe al menos: Dar la bienvenida al cliente. Indicar el precio del artículo que seleccionó el usuario."
      ],
      "metadata": {
        "id": "N__ypHOEa-Vg"
      }
    },
    {
      "cell_type": "code",
      "source": [
        "print(\"¡Bienvenido al Robot de Atención al Cliente!\")\n",
        "articulos = {\n",
        "    \"manzana\": 1.50,\n",
        "    \"banana\": 0.75,\n",
        "    \"naranja\": 1.00,\n",
        "    \"leche\": 2.50,\n",
        "    \"pan\": 1.25}\n",
        "print(\"Estos son los artículos disponibles:\")\n",
        "for articulo, precio in articulos.items():\n",
        "  print(f\"- {articulo}: ${precio}\")\n",
        "peticion = input(\"¿Qué artículo desea consultar? \")\n",
        "if peticion in articulos:\n",
        "  precio = articulos[peticion]\n",
        "  print(f\"El precio de {peticion} es: ${precio}\")\n",
        "else:\n",
        "  print(\"Lo siento, no tenemos ese artículo disponible.\")\n",
        "print(\"Gracias por su consulta.\")"
      ],
      "metadata": {
        "colab": {
          "base_uri": "https://localhost:8080/"
        },
        "id": "hA3_LdZ4cfNk",
        "outputId": "133778a0-6b85-42d8-b55f-404b5a6b7c5a"
      },
      "execution_count": 84,
      "outputs": [
        {
          "output_type": "stream",
          "name": "stdout",
          "text": [
            "¡Bienvenido al Robot de Atención al Cliente!\n",
            "Estos son los artículos disponibles:\n",
            "- manzana: $1.5\n",
            "- banana: $0.75\n",
            "- naranja: $1.0\n",
            "- leche: $2.5\n",
            "- pan: $1.25\n",
            "¿Qué artículo desea consultar? mora\n",
            "Lo siento, no tenemos ese artículo disponible.\n",
            "Gracias por su consulta.\n"
          ]
        }
      ]
    },
    {
      "cell_type": "markdown",
      "source": [
        "# Ejercicio 6\n",
        "Diseñe un programa que le permita calcular la resistencia total Rx. Considere que las n resistencias pueden estar en serie o en paralelo."
      ],
      "metadata": {
        "id": "Wn9Y7yF3coIE"
      }
    },
    {
      "cell_type": "code",
      "source": [
        "print(\"Elija la configuración del circuito:\")\n",
        "print(\"1. Todo en serie\")\n",
        "print(\"2. Todo en paralelo\")\n",
        "opcion = int(input(\"Ingrese su opción (1 o 2): \"))\n",
        "if opcion == 1:\n",
        "    resistencia1 = float(input(\"Ingrese la resistencia 1 en ohmios: \"))\n",
        "    resistencia2 = float(input(\"Ingrese la resistencia 2 en ohmios: \"))\n",
        "    resistencia_total = resistencia1 + resistencia2\n",
        "elif opcion == 2:\n",
        "    resistencia1 = float(input(\"Ingrese la resistencia 1 en ohmios: \"))\n",
        "    resistencia2 = float(input(\"Ingrese la resistencia 2 en ohmios: \"))\n",
        "    resistencia_total = 1 / ((1 / resistencia1) + (1 / resistencia2))\n",
        "else:\n",
        "    print(\"Opción no válida\")\n",
        "    resistencia_total = None\n",
        "if resistencia_total is not None:\n",
        "    print(f\"La resistencia total es: {resistencia_total:.2f} ohmios\")"
      ],
      "metadata": {
        "colab": {
          "base_uri": "https://localhost:8080/"
        },
        "id": "iuynQpBFdi67",
        "outputId": "e72956b6-65d2-46d8-e906-18b1751583f6"
      },
      "execution_count": 70,
      "outputs": [
        {
          "output_type": "stream",
          "name": "stdout",
          "text": [
            "Elija la configuración del circuito:\n",
            "1. Todo en serie\n",
            "2. Todo en paralelo\n",
            "Ingrese su opción (1 o 2): 3\n",
            "Opción no válida\n"
          ]
        }
      ]
    },
    {
      "cell_type": "markdown",
      "source": [
        "# Ejercicio 7\n",
        "Diseñe un algoritmo que lea temperatura en grados centígrados y la convierta en grados Fahrenheit y a grados Kelvin, siempre y cuando la temperatura dada en grados sea positiva."
      ],
      "metadata": {
        "id": "taS7z7Zpc610"
      }
    },
    {
      "cell_type": "code",
      "source": [
        "A= input(\"Ingrese la temperatura (en °C) \")\n",
        "while float(A) < 0:\n",
        "  print(\"Lo siento, no puedo calcular valores negativos. Ingresa la temperatura con un valor positivo\")\n",
        "  A= input(\"Ingrese la temperatura (en °C) \")\n",
        "B= float(A) + 273.15\n",
        "C= float(A)*1.8 + 32\n",
        "print(f\"La temperatura es {B}°K y {C}°F\")"
      ],
      "metadata": {
        "colab": {
          "base_uri": "https://localhost:8080/"
        },
        "id": "Z2bsOZmhdCQM",
        "outputId": "eb994bca-3a69-4701-ef4e-cb6d97c19c13"
      },
      "execution_count": 53,
      "outputs": [
        {
          "output_type": "stream",
          "name": "stdout",
          "text": [
            "Ingrese la temperatura (en °C) 2\n",
            "La temperatura es 275.15°K y 35.6°F\n"
          ]
        }
      ]
    },
    {
      "cell_type": "markdown",
      "source": [
        "# Ejercicio 8\n",
        "Dado dos enteros: horas(h) y minutos (m), representativos del tiempo en horas y minutos dado por un reloj de 24 horas, convierta el tiempo dado por el reloj de 24 horas a un reloj que obtenga el tiempo cada 12 horas."
      ],
      "metadata": {
        "id": "ELThBQ00dCj8"
      }
    },
    {
      "cell_type": "code",
      "source": [
        "h = int(input(\"Ingrese las horas: \"))\n",
        "m = int(input(\"Ingrese los minutos: \"))\n",
        "if h > 12:\n",
        "  h = h - 12\n",
        "  print(f\"{h}:{m} PM\")\n",
        "elif h == 12:\n",
        "  print(f\"{h}:{m} PM\")\n",
        "elif h == 0:\n",
        "  print(f\"12:{m} AM\")\n",
        "else:\n",
        "  print(f\"{h}:{m} AM\")\n"
      ],
      "metadata": {
        "colab": {
          "base_uri": "https://localhost:8080/"
        },
        "id": "XN2C-Xhxfn5Z",
        "outputId": "ab1784d0-5da4-492b-b8fa-843939a8d36e"
      },
      "execution_count": 54,
      "outputs": [
        {
          "output_type": "stream",
          "name": "stdout",
          "text": [
            "Ingrese las horas: 20\n",
            "Ingrese los minutos: 20\n",
            "8:20 PM\n"
          ]
        }
      ]
    },
    {
      "cell_type": "markdown",
      "source": [
        "# Ejercicio 9\n",
        "Crear el programa que solicite el nombre y el código de n estudiantes.Dependiendo del código, clasifique la carrera del estudiante y que luego lo imprima, junto con el nombre de la institución educativa perteneciente.\n",
        "Considere que los programas están dados por los cuatro primeros números después de la U del código:\n",
        "0001: Telecomunicaciones\n",
        "0002: Financiera\n",
        "0003: Mecatrónica\n",
        "0004: (una de su elección)"
      ],
      "metadata": {
        "id": "Z0aEJYsUdK0c"
      }
    },
    {
      "cell_type": "code",
      "source": [
        "institucion = \"Universidad Autónoma de Bucaramanga\"\n",
        "n = int(input(\"Ingrese el número de estudiantes: \"))\n",
        "for _ in range(n):\n",
        "    nombre = input(f\"Ingrese el nombre del estudiante: \")\n",
        "    codigo = input(f\"Ingrese el código del estudiante (formato UXXXX): \")\n",
        "    carrera_codigo = codigo[1:5]\n",
        "    if carrera_codigo == \"0001\":\n",
        "        carrera = \"Telecomunicaciones\"\n",
        "    elif carrera_codigo == \"0002\":\n",
        "        carrera = \"Financiera\"\n",
        "    elif carrera_codigo == \"0003\":\n",
        "        carrera = \"Mecatrónica\"\n",
        "    elif carrera_codigo == \"0004\":\n",
        "        carrera = \"Ingeniería en Sistemas\"\n",
        "    else:\n",
        "      carrera = \"Código no válido\"\n",
        "    print(f\"\\nNombre: {nombre}\")\n",
        "    print(f\"Código: {codigo}\")\n",
        "    print(f\"Carrera: {carrera}\")\n",
        "    print(f\"Institución: {institucion}\")"
      ],
      "metadata": {
        "colab": {
          "base_uri": "https://localhost:8080/"
        },
        "id": "knHhXnrCdUJ8",
        "outputId": "10f46ef3-c6ee-4f8a-d1b0-d5ff7cadfc73"
      },
      "execution_count": 68,
      "outputs": [
        {
          "output_type": "stream",
          "name": "stdout",
          "text": [
            "Ingrese el número de estudiantes: 1\n",
            "Ingrese el nombre del estudiante: Juan\n",
            "Ingrese el código del estudiante (formato UXXXX): U0001\n",
            "\n",
            "Nombre: Juan\n",
            "Código: U0001\n",
            "Carrera: Telecomunicaciones\n",
            "Institución: Universidad Autónoma de Bucaramanga\n"
          ]
        }
      ]
    },
    {
      "cell_type": "markdown",
      "source": [
        "# Ejercicio 10\n",
        "Diseñe un algoritmo que ejecute las funciones trigonométricas sen(x), cos(x) y tan(x) sujetas a la selección de las opciones asociadas así: Opción 1 para la función seno, opción 2 para la función coseno y opción 3 para el cálculo de la tangente, siendo el valor de x un argumento de entrada dado en grados."
      ],
      "metadata": {
        "id": "fUS6vSxbdUi0"
      }
    },
    {
      "cell_type": "code",
      "source": [
        "import math\n",
        "print(\"Elija la función a calcular:\")\n",
        "print(\"1. Seno\")\n",
        "print(\"2. Coseno\")\n",
        "print(\"3. Tangente\")\n",
        "opcion = int(input(\"Ingrese su opción (1, 2 o 3): \"))\n",
        "if opcion == 1:\n",
        "    x = float(input(\"Ingrese el valor de x en grados: \"))\n",
        "    seno = math.sin(math.radians(x))\n",
        "elif opcion == 2:\n",
        "    x = float(input(\"Ingrese el valor de x en grados: \"))\n",
        "    seno = math.cos(math.radians(x))\n",
        "elif opcion == 3:\n",
        "    x = float(input(\"Ingrese el valor de x en grados: \"))\n",
        "    seno = math.tan(math.radians(x))\n",
        "else:\n",
        "    print(\"Opción no válida\")\n",
        "    seno = None\n",
        "if seno is not None:\n",
        "    print(f\"El resultado de la función es: {seno}\")\n",
        ""
      ],
      "metadata": {
        "colab": {
          "base_uri": "https://localhost:8080/"
        },
        "id": "F2w95Iqodfgz",
        "outputId": "787605ad-45dd-41a3-888f-8c1b4bfc049e"
      },
      "execution_count": 76,
      "outputs": [
        {
          "output_type": "stream",
          "name": "stdout",
          "text": [
            "Elija la función a calcular:\n",
            "1. Seno\n",
            "2. Coseno\n",
            "3. Tangente\n",
            "Ingrese su opción (1, 2 o 3): 1\n",
            "Ingrese el valor de x en grados: 45\n",
            "El resultado de la función es: 0.7071067811865475\n"
          ]
        }
      ]
    }
  ]
}